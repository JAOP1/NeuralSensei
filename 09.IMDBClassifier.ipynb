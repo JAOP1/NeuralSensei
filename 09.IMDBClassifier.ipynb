{
 "cells": [
  {
   "cell_type": "markdown",
   "metadata": {},
   "source": [
    "# NLP: Clasificación.\n",
    "\n",
    "Ahora usaremos redes neuronales para clasificar texto.\n",
    "\n",
    "El ejemplo que veremos fue tomado del [curso de fast.ai](www.fast.ai).\n",
    "\n",
    "La idea será decidir, en base al texto de una review de una película de IMDB, si es un review positivo (calificación de 7 o más) o un review negativo (calificación de 4 o menos).\n",
    "\n",
    "Esto igual podría servir para detección de spam, etc."
   ]
  },
  {
   "cell_type": "code",
   "execution_count": 1,
   "metadata": {},
   "outputs": [],
   "source": [
    "%matplotlib inline\n",
    "%reload_ext autoreload\n",
    "%autoreload 2"
   ]
  },
  {
   "cell_type": "markdown",
   "metadata": {},
   "source": [
    "Esta vez importaremos fastai.text"
   ]
  },
  {
   "cell_type": "code",
   "execution_count": 2,
   "metadata": {},
   "outputs": [],
   "source": [
    "import fastai.basics as fai\n",
    "import fastai.text as ftxt\n",
    "import pandas as pd\n",
    "\n",
    "import gc\n",
    "import torch"
   ]
  },
  {
   "cell_type": "code",
   "execution_count": 3,
   "metadata": {},
   "outputs": [
    {
     "data": {
      "text/plain": [
       "True"
      ]
     },
     "execution_count": 3,
     "metadata": {},
     "output_type": "execute_result"
    }
   ],
   "source": [
    "torch.cuda.is_available()"
   ]
  },
  {
   "cell_type": "markdown",
   "metadata": {},
   "source": [
    "fastai trae dos para IMDB: el completo y una muestra. En este caso vamos a ver el dataset completo, pero en su tarea pueden usar el sample o el completo, como quieran (el completo tarda mucho)"
   ]
  },
  {
   "cell_type": "code",
   "execution_count": 4,
   "metadata": {},
   "outputs": [],
   "source": [
    "path = fai.untar_data(fai.URLs.IMDB)"
   ]
  },
  {
   "cell_type": "code",
   "execution_count": 5,
   "metadata": {},
   "outputs": [
    {
     "name": "stdout",
     "output_type": "stream",
     "text": [
      "data_lm.pkl  imdb.vocab  models  README  test  tmp_clas  tmp_lm  train\tunsup\n"
     ]
    }
   ],
   "source": [
    "!ls {path}/"
   ]
  },
  {
   "cell_type": "code",
   "execution_count": 6,
   "metadata": {},
   "outputs": [
    {
     "name": "stdout",
     "output_type": "stream",
     "text": [
      "labeledBow.feat  neg  pos  unsupBow.feat\n"
     ]
    }
   ],
   "source": [
    "!ls {path}/train"
   ]
  },
  {
   "cell_type": "code",
   "execution_count": 7,
   "metadata": {},
   "outputs": [
    {
     "name": "stdout",
     "output_type": "stream",
     "text": [
      "0_3.txt\n",
      "10000_4.txt\n",
      "10001_4.txt\n",
      "10002_1.txt\n",
      "10003_1.txt\n",
      "10004_3.txt\n",
      "1000_4.txt\n",
      "10005_3.txt\n",
      "10006_4.txt\n",
      "10007_1.txt\n",
      "ls: write error: Broken pipe\n"
     ]
    }
   ],
   "source": [
    "!ls {path}/train/neg | head"
   ]
  },
  {
   "cell_type": "code",
   "execution_count": 8,
   "metadata": {},
   "outputs": [
    {
     "name": "stdout",
     "output_type": "stream",
     "text": [
      "This film lacked something I couldn't put my finger on at first: charisma on the part of the leading actress. This inevitably translated to lack of chemistry when she shared the screen with her leading man. Even the romantic scenes came across as being merely the actors at play. It could very well have been the director who miscalculated what he needed from the actors. I just don't know.<br /><br />But could it have been the screenplay? Just exactly who was the chef in love with? He seemed more enamored of his culinary skills and restaurant, and ultimately of himself and his youthful exploits, than of anybody or anything else. He never convinced me he was in love with the princess.<br /><br />I was disappointed in this movie. But, don't forget it was nominated for an Oscar, so judge for yourself."
     ]
    }
   ],
   "source": [
    "!cat {path}/train/neg/10001_4.txt"
   ]
  },
  {
   "cell_type": "markdown",
   "metadata": {},
   "source": [
    "Ok, entonces está en estilo \"ImageNet\". Tenemos la carpeta train y valid y luego dividido en folders \"neg\" y \"pos\". Perfecto!"
   ]
  },
  {
   "cell_type": "markdown",
   "metadata": {},
   "source": [
    "## NLP en 2018 en 5 minutos\n",
    "Ahora, desde 2017-2018, como les he venido diciendo, hubo un cambio masivo en NLP, su \"imagenet moment\".\n",
    "\n",
    "Estos cambios, que culminan con BERT y OpenAI GTP-2, se basan en dos ideas principales:\n",
    "1. Transferencia de conocimiento\n",
    "2. Atención.\n",
    "\n",
    "Por ahora no usaremos atención, sólo transferencia de conocimiento, aunque debemos hablar un poco de la historia, y cosas como word2vec, etc.\n",
    "\n",
    "Transferencia de conocimiento en NLP fue [empoderado](https://arxiv.org/abs/1801.06146) por Jeremy Howard, el creador de fastai! (junto con Sebastian Rudder).\n",
    "\n",
    "Antes la única transferencia de conocimiento era usar embeddings pre-computados de palabras (word2vec, glove, etc.). Pero obviamente las palabras significan cosas diferentes dependiendo de su contexto!\n",
    "\n",
    "La idea fue que el embedding corresponde a UNA sola capa de la red neuronal. Así que en vez de encodear una sola palabra, vamos a encodear enunciados completos, con varias capas.\n",
    "\n",
    "Para entrenar esto vamos a usar un **modelo de lenguaje**: predecir la siguiente palabra en base a las anteriores (*e.g.* autocompletado en tu celular).\n",
    "\n",
    "Vamos entonces a usar un modelo de lenguaje pre-entrenado en Wikipedia. Después vamos a re-entrenarlo para nuestros datos (sin usar si son negativos o positivos). Después usaremos ese modelo de lenguaje para hacer la clasificación.\n",
    "\n",
    "Notemos que un modelo de lenguaje \"perfecto\" es a) imposible, b) algo a qué aspirar. Si le ponemos\n",
    "\"El presidente de México durante 1990 era\", y nos lo completa con \"Salinas\", pues algo podemos pensar que sabe.\n"
   ]
  },
  {
   "cell_type": "code",
   "execution_count": 9,
   "metadata": {},
   "outputs": [],
   "source": [
    "def load_lm_data(batch_size):\n",
    "    return (ftxt.TextList.from_folder(path)\n",
    "            .filter_by_folder(include=['train', 'test', 'unsup']) \n",
    "            .split_by_rand_pct(0.1)\n",
    "            .label_for_lm()           \n",
    "            .databunch(bs=batch_size))"
   ]
  },
  {
   "cell_type": "code",
   "execution_count": 8,
   "metadata": {},
   "outputs": [
    {
     "ename": "KeyboardInterrupt",
     "evalue": "",
     "output_type": "error",
     "traceback": [
      "\u001b[0;31m---------------------------------------------------------------------------\u001b[0m",
      "\u001b[0;31mKeyboardInterrupt\u001b[0m                         Traceback (most recent call last)",
      "\u001b[0;32m<ipython-input-8-0aa8048ef371>\u001b[0m in \u001b[0;36m<module>\u001b[0;34m\u001b[0m\n\u001b[0;32m----> 1\u001b[0;31m \u001b[0mdata_lm\u001b[0m \u001b[0;34m=\u001b[0m \u001b[0mload_lm_data\u001b[0m\u001b[0;34m(\u001b[0m\u001b[0;36m32\u001b[0m\u001b[0;34m)\u001b[0m\u001b[0;34m\u001b[0m\u001b[0;34m\u001b[0m\u001b[0m\n\u001b[0m",
      "\u001b[0;32m<ipython-input-7-e9c93d34e24a>\u001b[0m in \u001b[0;36mload_lm_data\u001b[0;34m(batch_size)\u001b[0m\n\u001b[1;32m      2\u001b[0m     return (ftxt.TextList.from_folder(path)\n\u001b[1;32m      3\u001b[0m             \u001b[0;34m.\u001b[0m\u001b[0mfilter_by_folder\u001b[0m\u001b[0;34m(\u001b[0m\u001b[0minclude\u001b[0m\u001b[0;34m=\u001b[0m\u001b[0;34m[\u001b[0m\u001b[0;34m'train'\u001b[0m\u001b[0;34m,\u001b[0m \u001b[0;34m'test'\u001b[0m\u001b[0;34m,\u001b[0m \u001b[0;34m'unsup'\u001b[0m\u001b[0;34m]\u001b[0m\u001b[0;34m)\u001b[0m\u001b[0;34m\u001b[0m\u001b[0;34m\u001b[0m\u001b[0m\n\u001b[0;32m----> 4\u001b[0;31m             \u001b[0;34m.\u001b[0m\u001b[0msplit_by_rand_pct\u001b[0m\u001b[0;34m(\u001b[0m\u001b[0;36m0.1\u001b[0m\u001b[0;34m)\u001b[0m\u001b[0;34m\u001b[0m\u001b[0;34m\u001b[0m\u001b[0m\n\u001b[0m\u001b[1;32m      5\u001b[0m             \u001b[0;34m.\u001b[0m\u001b[0mlabel_for_lm\u001b[0m\u001b[0;34m(\u001b[0m\u001b[0;34m)\u001b[0m\u001b[0;34m\u001b[0m\u001b[0;34m\u001b[0m\u001b[0m\n\u001b[1;32m      6\u001b[0m             .databunch(bs=batch_size))\n",
      "\u001b[0;32m~/anaconda3/envs/fastai/lib/python3.7/site-packages/fastai/data_block.py\u001b[0m in \u001b[0;36m_inner\u001b[0;34m(*args, **kwargs)\u001b[0m\n\u001b[1;32m    466\u001b[0m             \u001b[0mself\u001b[0m\u001b[0;34m.\u001b[0m\u001b[0mvalid\u001b[0m \u001b[0;34m=\u001b[0m \u001b[0mfv\u001b[0m\u001b[0;34m(\u001b[0m\u001b[0;34m*\u001b[0m\u001b[0margs\u001b[0m\u001b[0;34m,\u001b[0m \u001b[0mfrom_item_lists\u001b[0m\u001b[0;34m=\u001b[0m\u001b[0;32mTrue\u001b[0m\u001b[0;34m,\u001b[0m \u001b[0;34m**\u001b[0m\u001b[0mkwargs\u001b[0m\u001b[0;34m)\u001b[0m\u001b[0;34m\u001b[0m\u001b[0;34m\u001b[0m\u001b[0m\n\u001b[1;32m    467\u001b[0m             \u001b[0mself\u001b[0m\u001b[0;34m.\u001b[0m\u001b[0m__class__\u001b[0m \u001b[0;34m=\u001b[0m \u001b[0mLabelLists\u001b[0m\u001b[0;34m\u001b[0m\u001b[0;34m\u001b[0m\u001b[0m\n\u001b[0;32m--> 468\u001b[0;31m             \u001b[0mself\u001b[0m\u001b[0;34m.\u001b[0m\u001b[0mprocess\u001b[0m\u001b[0;34m(\u001b[0m\u001b[0;34m)\u001b[0m\u001b[0;34m\u001b[0m\u001b[0;34m\u001b[0m\u001b[0m\n\u001b[0m\u001b[1;32m    469\u001b[0m             \u001b[0;32mreturn\u001b[0m \u001b[0mself\u001b[0m\u001b[0;34m\u001b[0m\u001b[0;34m\u001b[0m\u001b[0m\n\u001b[1;32m    470\u001b[0m         \u001b[0;32mreturn\u001b[0m \u001b[0m_inner\u001b[0m\u001b[0;34m\u001b[0m\u001b[0;34m\u001b[0m\u001b[0m\n",
      "\u001b[0;32m~/anaconda3/envs/fastai/lib/python3.7/site-packages/fastai/data_block.py\u001b[0m in \u001b[0;36mprocess\u001b[0;34m(self)\u001b[0m\n\u001b[1;32m    520\u001b[0m         \u001b[0;34m\"Process the inner datasets.\"\u001b[0m\u001b[0;34m\u001b[0m\u001b[0;34m\u001b[0m\u001b[0m\n\u001b[1;32m    521\u001b[0m         \u001b[0mxp\u001b[0m\u001b[0;34m,\u001b[0m\u001b[0myp\u001b[0m \u001b[0;34m=\u001b[0m \u001b[0mself\u001b[0m\u001b[0;34m.\u001b[0m\u001b[0mget_processors\u001b[0m\u001b[0;34m(\u001b[0m\u001b[0;34m)\u001b[0m\u001b[0;34m\u001b[0m\u001b[0;34m\u001b[0m\u001b[0m\n\u001b[0;32m--> 522\u001b[0;31m         \u001b[0;32mfor\u001b[0m \u001b[0mds\u001b[0m\u001b[0;34m,\u001b[0m\u001b[0mn\u001b[0m \u001b[0;32min\u001b[0m \u001b[0mzip\u001b[0m\u001b[0;34m(\u001b[0m\u001b[0mself\u001b[0m\u001b[0;34m.\u001b[0m\u001b[0mlists\u001b[0m\u001b[0;34m,\u001b[0m \u001b[0;34m[\u001b[0m\u001b[0;34m'train'\u001b[0m\u001b[0;34m,\u001b[0m\u001b[0;34m'valid'\u001b[0m\u001b[0;34m,\u001b[0m\u001b[0;34m'test'\u001b[0m\u001b[0;34m]\u001b[0m\u001b[0;34m)\u001b[0m\u001b[0;34m:\u001b[0m \u001b[0mds\u001b[0m\u001b[0;34m.\u001b[0m\u001b[0mprocess\u001b[0m\u001b[0;34m(\u001b[0m\u001b[0mxp\u001b[0m\u001b[0;34m,\u001b[0m \u001b[0myp\u001b[0m\u001b[0;34m,\u001b[0m \u001b[0mname\u001b[0m\u001b[0;34m=\u001b[0m\u001b[0mn\u001b[0m\u001b[0;34m)\u001b[0m\u001b[0;34m\u001b[0m\u001b[0;34m\u001b[0m\u001b[0m\n\u001b[0m\u001b[1;32m    523\u001b[0m         \u001b[0;31m#progress_bar clear the outputs so in some case warnings issued during processing disappear.\u001b[0m\u001b[0;34m\u001b[0m\u001b[0;34m\u001b[0m\u001b[0;34m\u001b[0m\u001b[0m\n\u001b[1;32m    524\u001b[0m         \u001b[0;32mfor\u001b[0m \u001b[0mds\u001b[0m \u001b[0;32min\u001b[0m \u001b[0mself\u001b[0m\u001b[0;34m.\u001b[0m\u001b[0mlists\u001b[0m\u001b[0;34m:\u001b[0m\u001b[0;34m\u001b[0m\u001b[0;34m\u001b[0m\u001b[0m\n",
      "\u001b[0;32m~/anaconda3/envs/fastai/lib/python3.7/site-packages/fastai/data_block.py\u001b[0m in \u001b[0;36mprocess\u001b[0;34m(self, xp, yp, name)\u001b[0m\n\u001b[1;32m    697\u001b[0m                     \u001b[0mp\u001b[0m\u001b[0;34m.\u001b[0m\u001b[0mwarns\u001b[0m \u001b[0;34m=\u001b[0m \u001b[0;34m[\u001b[0m\u001b[0;34m]\u001b[0m\u001b[0;34m\u001b[0m\u001b[0;34m\u001b[0m\u001b[0m\n\u001b[1;32m    698\u001b[0m                 \u001b[0mself\u001b[0m\u001b[0;34m.\u001b[0m\u001b[0mx\u001b[0m\u001b[0;34m,\u001b[0m\u001b[0mself\u001b[0m\u001b[0;34m.\u001b[0m\u001b[0my\u001b[0m \u001b[0;34m=\u001b[0m \u001b[0mself\u001b[0m\u001b[0;34m.\u001b[0m\u001b[0mx\u001b[0m\u001b[0;34m[\u001b[0m\u001b[0;34m~\u001b[0m\u001b[0mfilt\u001b[0m\u001b[0;34m]\u001b[0m\u001b[0;34m,\u001b[0m\u001b[0mself\u001b[0m\u001b[0;34m.\u001b[0m\u001b[0my\u001b[0m\u001b[0;34m[\u001b[0m\u001b[0;34m~\u001b[0m\u001b[0mfilt\u001b[0m\u001b[0;34m]\u001b[0m\u001b[0;34m\u001b[0m\u001b[0;34m\u001b[0m\u001b[0m\n\u001b[0;32m--> 699\u001b[0;31m         \u001b[0mself\u001b[0m\u001b[0;34m.\u001b[0m\u001b[0mx\u001b[0m\u001b[0;34m.\u001b[0m\u001b[0mprocess\u001b[0m\u001b[0;34m(\u001b[0m\u001b[0mxp\u001b[0m\u001b[0;34m)\u001b[0m\u001b[0;34m\u001b[0m\u001b[0;34m\u001b[0m\u001b[0m\n\u001b[0m\u001b[1;32m    700\u001b[0m         \u001b[0;32mreturn\u001b[0m \u001b[0mself\u001b[0m\u001b[0;34m\u001b[0m\u001b[0;34m\u001b[0m\u001b[0m\n\u001b[1;32m    701\u001b[0m \u001b[0;34m\u001b[0m\u001b[0m\n",
      "\u001b[0;32m~/anaconda3/envs/fastai/lib/python3.7/site-packages/fastai/data_block.py\u001b[0m in \u001b[0;36mprocess\u001b[0;34m(self, processor)\u001b[0m\n\u001b[1;32m     73\u001b[0m         \u001b[0;32mif\u001b[0m \u001b[0mprocessor\u001b[0m \u001b[0;32mis\u001b[0m \u001b[0;32mnot\u001b[0m \u001b[0;32mNone\u001b[0m\u001b[0;34m:\u001b[0m \u001b[0mself\u001b[0m\u001b[0;34m.\u001b[0m\u001b[0mprocessor\u001b[0m \u001b[0;34m=\u001b[0m \u001b[0mprocessor\u001b[0m\u001b[0;34m\u001b[0m\u001b[0;34m\u001b[0m\u001b[0m\n\u001b[1;32m     74\u001b[0m         \u001b[0mself\u001b[0m\u001b[0;34m.\u001b[0m\u001b[0mprocessor\u001b[0m \u001b[0;34m=\u001b[0m \u001b[0mlistify\u001b[0m\u001b[0;34m(\u001b[0m\u001b[0mself\u001b[0m\u001b[0;34m.\u001b[0m\u001b[0mprocessor\u001b[0m\u001b[0;34m)\u001b[0m\u001b[0;34m\u001b[0m\u001b[0;34m\u001b[0m\u001b[0m\n\u001b[0;32m---> 75\u001b[0;31m         \u001b[0;32mfor\u001b[0m \u001b[0mp\u001b[0m \u001b[0;32min\u001b[0m \u001b[0mself\u001b[0m\u001b[0;34m.\u001b[0m\u001b[0mprocessor\u001b[0m\u001b[0;34m:\u001b[0m \u001b[0mp\u001b[0m\u001b[0;34m.\u001b[0m\u001b[0mprocess\u001b[0m\u001b[0;34m(\u001b[0m\u001b[0mself\u001b[0m\u001b[0;34m)\u001b[0m\u001b[0;34m\u001b[0m\u001b[0;34m\u001b[0m\u001b[0m\n\u001b[0m\u001b[1;32m     76\u001b[0m         \u001b[0;32mreturn\u001b[0m \u001b[0mself\u001b[0m\u001b[0;34m\u001b[0m\u001b[0;34m\u001b[0m\u001b[0m\n\u001b[1;32m     77\u001b[0m \u001b[0;34m\u001b[0m\u001b[0m\n",
      "\u001b[0;32m~/anaconda3/envs/fastai/lib/python3.7/site-packages/fastai/text/data.py\u001b[0m in \u001b[0;36mprocess\u001b[0;34m(self, ds)\u001b[0m\n\u001b[1;32m    291\u001b[0m         \u001b[0mtokens\u001b[0m \u001b[0;34m=\u001b[0m \u001b[0;34m[\u001b[0m\u001b[0;34m]\u001b[0m\u001b[0;34m\u001b[0m\u001b[0;34m\u001b[0m\u001b[0m\n\u001b[1;32m    292\u001b[0m         \u001b[0;32mfor\u001b[0m \u001b[0mi\u001b[0m \u001b[0;32min\u001b[0m \u001b[0mprogress_bar\u001b[0m\u001b[0;34m(\u001b[0m\u001b[0mrange\u001b[0m\u001b[0;34m(\u001b[0m\u001b[0;36m0\u001b[0m\u001b[0;34m,\u001b[0m\u001b[0mlen\u001b[0m\u001b[0;34m(\u001b[0m\u001b[0mds\u001b[0m\u001b[0;34m)\u001b[0m\u001b[0;34m,\u001b[0m\u001b[0mself\u001b[0m\u001b[0;34m.\u001b[0m\u001b[0mchunksize\u001b[0m\u001b[0;34m)\u001b[0m\u001b[0;34m,\u001b[0m \u001b[0mleave\u001b[0m\u001b[0;34m=\u001b[0m\u001b[0;32mFalse\u001b[0m\u001b[0;34m)\u001b[0m\u001b[0;34m:\u001b[0m\u001b[0;34m\u001b[0m\u001b[0;34m\u001b[0m\u001b[0m\n\u001b[0;32m--> 293\u001b[0;31m             \u001b[0mtokens\u001b[0m \u001b[0;34m+=\u001b[0m \u001b[0mself\u001b[0m\u001b[0;34m.\u001b[0m\u001b[0mtokenizer\u001b[0m\u001b[0;34m.\u001b[0m\u001b[0mprocess_all\u001b[0m\u001b[0;34m(\u001b[0m\u001b[0mds\u001b[0m\u001b[0;34m.\u001b[0m\u001b[0mitems\u001b[0m\u001b[0;34m[\u001b[0m\u001b[0mi\u001b[0m\u001b[0;34m:\u001b[0m\u001b[0mi\u001b[0m\u001b[0;34m+\u001b[0m\u001b[0mself\u001b[0m\u001b[0;34m.\u001b[0m\u001b[0mchunksize\u001b[0m\u001b[0;34m]\u001b[0m\u001b[0;34m)\u001b[0m\u001b[0;34m\u001b[0m\u001b[0;34m\u001b[0m\u001b[0m\n\u001b[0m\u001b[1;32m    294\u001b[0m         \u001b[0mds\u001b[0m\u001b[0;34m.\u001b[0m\u001b[0mitems\u001b[0m \u001b[0;34m=\u001b[0m \u001b[0mtokens\u001b[0m\u001b[0;34m\u001b[0m\u001b[0;34m\u001b[0m\u001b[0m\n\u001b[1;32m    295\u001b[0m \u001b[0;34m\u001b[0m\u001b[0m\n",
      "\u001b[0;32m~/anaconda3/envs/fastai/lib/python3.7/site-packages/fastai/text/transform.py\u001b[0m in \u001b[0;36mprocess_all\u001b[0;34m(self, texts)\u001b[0m\n\u001b[1;32m    118\u001b[0m         \u001b[0;32mif\u001b[0m \u001b[0mself\u001b[0m\u001b[0;34m.\u001b[0m\u001b[0mn_cpus\u001b[0m \u001b[0;34m<=\u001b[0m \u001b[0;36m1\u001b[0m\u001b[0;34m:\u001b[0m \u001b[0;32mreturn\u001b[0m \u001b[0mself\u001b[0m\u001b[0;34m.\u001b[0m\u001b[0m_process_all_1\u001b[0m\u001b[0;34m(\u001b[0m\u001b[0mtexts\u001b[0m\u001b[0;34m)\u001b[0m\u001b[0;34m\u001b[0m\u001b[0;34m\u001b[0m\u001b[0m\n\u001b[1;32m    119\u001b[0m         \u001b[0;32mwith\u001b[0m \u001b[0mProcessPoolExecutor\u001b[0m\u001b[0;34m(\u001b[0m\u001b[0mself\u001b[0m\u001b[0;34m.\u001b[0m\u001b[0mn_cpus\u001b[0m\u001b[0;34m)\u001b[0m \u001b[0;32mas\u001b[0m \u001b[0me\u001b[0m\u001b[0;34m:\u001b[0m\u001b[0;34m\u001b[0m\u001b[0;34m\u001b[0m\u001b[0m\n\u001b[0;32m--> 120\u001b[0;31m             \u001b[0;32mreturn\u001b[0m \u001b[0msum\u001b[0m\u001b[0;34m(\u001b[0m\u001b[0me\u001b[0m\u001b[0;34m.\u001b[0m\u001b[0mmap\u001b[0m\u001b[0;34m(\u001b[0m\u001b[0mself\u001b[0m\u001b[0;34m.\u001b[0m\u001b[0m_process_all_1\u001b[0m\u001b[0;34m,\u001b[0m \u001b[0mpartition_by_cores\u001b[0m\u001b[0;34m(\u001b[0m\u001b[0mtexts\u001b[0m\u001b[0;34m,\u001b[0m \u001b[0mself\u001b[0m\u001b[0;34m.\u001b[0m\u001b[0mn_cpus\u001b[0m\u001b[0;34m)\u001b[0m\u001b[0;34m)\u001b[0m\u001b[0;34m,\u001b[0m \u001b[0;34m[\u001b[0m\u001b[0;34m]\u001b[0m\u001b[0;34m)\u001b[0m\u001b[0;34m\u001b[0m\u001b[0;34m\u001b[0m\u001b[0m\n\u001b[0m\u001b[1;32m    121\u001b[0m \u001b[0;34m\u001b[0m\u001b[0m\n\u001b[1;32m    122\u001b[0m \u001b[0;32mclass\u001b[0m \u001b[0mVocab\u001b[0m\u001b[0;34m(\u001b[0m\u001b[0;34m)\u001b[0m\u001b[0;34m:\u001b[0m\u001b[0;34m\u001b[0m\u001b[0;34m\u001b[0m\u001b[0m\n",
      "\u001b[0;32m~/anaconda3/envs/fastai/lib/python3.7/concurrent/futures/process.py\u001b[0m in \u001b[0;36m_chain_from_iterable_of_lists\u001b[0;34m(iterable)\u001b[0m\n\u001b[1;32m    474\u001b[0m     \u001b[0mcareful\u001b[0m \u001b[0;32mnot\u001b[0m \u001b[0mto\u001b[0m \u001b[0mkeep\u001b[0m \u001b[0mreferences\u001b[0m \u001b[0mto\u001b[0m \u001b[0myielded\u001b[0m \u001b[0mobjects\u001b[0m\u001b[0;34m.\u001b[0m\u001b[0;34m\u001b[0m\u001b[0;34m\u001b[0m\u001b[0m\n\u001b[1;32m    475\u001b[0m     \"\"\"\n\u001b[0;32m--> 476\u001b[0;31m     \u001b[0;32mfor\u001b[0m \u001b[0melement\u001b[0m \u001b[0;32min\u001b[0m \u001b[0miterable\u001b[0m\u001b[0;34m:\u001b[0m\u001b[0;34m\u001b[0m\u001b[0;34m\u001b[0m\u001b[0m\n\u001b[0m\u001b[1;32m    477\u001b[0m         \u001b[0melement\u001b[0m\u001b[0;34m.\u001b[0m\u001b[0mreverse\u001b[0m\u001b[0;34m(\u001b[0m\u001b[0;34m)\u001b[0m\u001b[0;34m\u001b[0m\u001b[0;34m\u001b[0m\u001b[0m\n\u001b[1;32m    478\u001b[0m         \u001b[0;32mwhile\u001b[0m \u001b[0melement\u001b[0m\u001b[0;34m:\u001b[0m\u001b[0;34m\u001b[0m\u001b[0;34m\u001b[0m\u001b[0m\n",
      "\u001b[0;32m~/anaconda3/envs/fastai/lib/python3.7/concurrent/futures/_base.py\u001b[0m in \u001b[0;36mresult_iterator\u001b[0;34m()\u001b[0m\n\u001b[1;32m    584\u001b[0m                     \u001b[0;31m# Careful not to keep a reference to the popped future\u001b[0m\u001b[0;34m\u001b[0m\u001b[0;34m\u001b[0m\u001b[0;34m\u001b[0m\u001b[0m\n\u001b[1;32m    585\u001b[0m                     \u001b[0;32mif\u001b[0m \u001b[0mtimeout\u001b[0m \u001b[0;32mis\u001b[0m \u001b[0;32mNone\u001b[0m\u001b[0;34m:\u001b[0m\u001b[0;34m\u001b[0m\u001b[0;34m\u001b[0m\u001b[0m\n\u001b[0;32m--> 586\u001b[0;31m                         \u001b[0;32myield\u001b[0m \u001b[0mfs\u001b[0m\u001b[0;34m.\u001b[0m\u001b[0mpop\u001b[0m\u001b[0;34m(\u001b[0m\u001b[0;34m)\u001b[0m\u001b[0;34m.\u001b[0m\u001b[0mresult\u001b[0m\u001b[0;34m(\u001b[0m\u001b[0;34m)\u001b[0m\u001b[0;34m\u001b[0m\u001b[0;34m\u001b[0m\u001b[0m\n\u001b[0m\u001b[1;32m    587\u001b[0m                     \u001b[0;32melse\u001b[0m\u001b[0;34m:\u001b[0m\u001b[0;34m\u001b[0m\u001b[0;34m\u001b[0m\u001b[0m\n\u001b[1;32m    588\u001b[0m                         \u001b[0;32myield\u001b[0m \u001b[0mfs\u001b[0m\u001b[0;34m.\u001b[0m\u001b[0mpop\u001b[0m\u001b[0;34m(\u001b[0m\u001b[0;34m)\u001b[0m\u001b[0;34m.\u001b[0m\u001b[0mresult\u001b[0m\u001b[0;34m(\u001b[0m\u001b[0mend_time\u001b[0m \u001b[0;34m-\u001b[0m \u001b[0mtime\u001b[0m\u001b[0;34m.\u001b[0m\u001b[0mmonotonic\u001b[0m\u001b[0;34m(\u001b[0m\u001b[0;34m)\u001b[0m\u001b[0;34m)\u001b[0m\u001b[0;34m\u001b[0m\u001b[0;34m\u001b[0m\u001b[0m\n",
      "\u001b[0;32m~/anaconda3/envs/fastai/lib/python3.7/concurrent/futures/_base.py\u001b[0m in \u001b[0;36mresult\u001b[0;34m(self, timeout)\u001b[0m\n\u001b[1;32m    425\u001b[0m                 \u001b[0;32mreturn\u001b[0m \u001b[0mself\u001b[0m\u001b[0;34m.\u001b[0m\u001b[0m__get_result\u001b[0m\u001b[0;34m(\u001b[0m\u001b[0;34m)\u001b[0m\u001b[0;34m\u001b[0m\u001b[0;34m\u001b[0m\u001b[0m\n\u001b[1;32m    426\u001b[0m \u001b[0;34m\u001b[0m\u001b[0m\n\u001b[0;32m--> 427\u001b[0;31m             \u001b[0mself\u001b[0m\u001b[0;34m.\u001b[0m\u001b[0m_condition\u001b[0m\u001b[0;34m.\u001b[0m\u001b[0mwait\u001b[0m\u001b[0;34m(\u001b[0m\u001b[0mtimeout\u001b[0m\u001b[0;34m)\u001b[0m\u001b[0;34m\u001b[0m\u001b[0;34m\u001b[0m\u001b[0m\n\u001b[0m\u001b[1;32m    428\u001b[0m \u001b[0;34m\u001b[0m\u001b[0m\n\u001b[1;32m    429\u001b[0m             \u001b[0;32mif\u001b[0m \u001b[0mself\u001b[0m\u001b[0;34m.\u001b[0m\u001b[0m_state\u001b[0m \u001b[0;32min\u001b[0m \u001b[0;34m[\u001b[0m\u001b[0mCANCELLED\u001b[0m\u001b[0;34m,\u001b[0m \u001b[0mCANCELLED_AND_NOTIFIED\u001b[0m\u001b[0;34m]\u001b[0m\u001b[0;34m:\u001b[0m\u001b[0;34m\u001b[0m\u001b[0;34m\u001b[0m\u001b[0m\n",
      "\u001b[0;32m~/anaconda3/envs/fastai/lib/python3.7/threading.py\u001b[0m in \u001b[0;36mwait\u001b[0;34m(self, timeout)\u001b[0m\n\u001b[1;32m    294\u001b[0m         \u001b[0;32mtry\u001b[0m\u001b[0;34m:\u001b[0m    \u001b[0;31m# restore state no matter what (e.g., KeyboardInterrupt)\u001b[0m\u001b[0;34m\u001b[0m\u001b[0;34m\u001b[0m\u001b[0m\n\u001b[1;32m    295\u001b[0m             \u001b[0;32mif\u001b[0m \u001b[0mtimeout\u001b[0m \u001b[0;32mis\u001b[0m \u001b[0;32mNone\u001b[0m\u001b[0;34m:\u001b[0m\u001b[0;34m\u001b[0m\u001b[0;34m\u001b[0m\u001b[0m\n\u001b[0;32m--> 296\u001b[0;31m                 \u001b[0mwaiter\u001b[0m\u001b[0;34m.\u001b[0m\u001b[0macquire\u001b[0m\u001b[0;34m(\u001b[0m\u001b[0;34m)\u001b[0m\u001b[0;34m\u001b[0m\u001b[0;34m\u001b[0m\u001b[0m\n\u001b[0m\u001b[1;32m    297\u001b[0m                 \u001b[0mgotit\u001b[0m \u001b[0;34m=\u001b[0m \u001b[0;32mTrue\u001b[0m\u001b[0;34m\u001b[0m\u001b[0;34m\u001b[0m\u001b[0m\n\u001b[1;32m    298\u001b[0m             \u001b[0;32melse\u001b[0m\u001b[0;34m:\u001b[0m\u001b[0;34m\u001b[0m\u001b[0;34m\u001b[0m\u001b[0m\n",
      "\u001b[0;31mKeyboardInterrupt\u001b[0m: "
     ]
    }
   ],
   "source": [
    "data_lm = load_lm_data(32)"
   ]
  },
  {
   "cell_type": "markdown",
   "metadata": {},
   "source": [
    "Uff, esto tardó muchíiiiisimo! Vamos a guardar nuestro progreso (la próxima vez que corra esto, más bien correré sólo la linea de \"load_data\""
   ]
  },
  {
   "cell_type": "code",
   "execution_count": null,
   "metadata": {},
   "outputs": [],
   "source": [
    "data_lm.save('data_lm.pkl')"
   ]
  },
  {
   "cell_type": "code",
   "execution_count": 9,
   "metadata": {},
   "outputs": [],
   "source": [
    "data_lm = ftxt.load_data(path, 'data_lm.pkl', bs=32)"
   ]
  },
  {
   "cell_type": "code",
   "execution_count": 11,
   "metadata": {},
   "outputs": [
    {
     "data": {
      "text/html": [
       "<table border=\"1\" class=\"dataframe\">\n",
       "  <thead>\n",
       "    <tr style=\"text-align: right;\">\n",
       "      <th>idx</th>\n",
       "      <th>text</th>\n",
       "    </tr>\n",
       "  </thead>\n",
       "  <tbody>\n",
       "    <tr>\n",
       "      <td>0</td>\n",
       "      <td>life than a cool set of wheels and a quick piece of tail . xxmaj sure , it 's essentially a blatant adolescent male fantasy pic -- the main teen xxunk character xxmaj bobby xxmaj hamilton gets the girls , the respect of his friends , and a chance to show - up a local van - racing bully -- but it 's way too dopey and good - natured</td>\n",
       "    </tr>\n",
       "    <tr>\n",
       "      <td>1</td>\n",
       "      <td>vhs , and years later on xxup dvd part of xxmaj xxunk 's xxmaj anime xxmaj legends collections . xxmaj it was amazing , and truly worth watching . xxmaj it had a lot of exploding action that will blow you out of your seat . xxmaj and of course , the theme songs \" xxmaj just xxmaj xxunk xxmaj rhythm xxmaj emotions \" were the best . \\n \\n</td>\n",
       "    </tr>\n",
       "    <tr>\n",
       "      <td>2</td>\n",
       "      <td>xxmaj but xxmaj david xxmaj duchovny and xxmaj michelle xxmaj forbes are a surprise as well . xxmaj they both did a very good job and i really wonder why we never heard anything from xxmaj forbes again since this movie , because she really proves to have a lot of talent . \\n \\n  xxmaj overall this is a very good and impressive psychological thriller with a very</td>\n",
       "    </tr>\n",
       "    <tr>\n",
       "      <td>3</td>\n",
       "      <td>not touch - an obstacle that seems to be truly no obstacle with aids such as gloves , cellophane , and quirky schedules around the apartment . xxmaj but despite the awkwardness presented as they work their feelings around a strange secret which only a few know , they still manage to show their on screen chemistry in touching scenes like when xxmaj ned gives xxmaj chuck the xxunk .</td>\n",
       "    </tr>\n",
       "    <tr>\n",
       "      <td>4</td>\n",
       "      <td>complaint i have with this movie - the only slight flaw is the tone of intellectual / bourgeois snobbery i caught at times from the \" enlightened \" characters . xxmaj but that 's a minor quibble . \\n \\n  xxmaj sadly , this film appears to have been bypassed by xxmaj western licensing companies . xxmaj it 's a crying shame that one of the all - round</td>\n",
       "    </tr>\n",
       "  </tbody>\n",
       "</table>"
      ],
      "text/plain": [
       "<IPython.core.display.HTML object>"
      ]
     },
     "metadata": {},
     "output_type": "display_data"
    }
   ],
   "source": [
    "data_lm.show_batch()"
   ]
  },
  {
   "cell_type": "markdown",
   "metadata": {},
   "source": [
    "WTF??\n",
    "\n",
    "¿Qué pasó ahí? Bueno, pues simplemente es que NLP es medio annoying, porque hay que hacer bastante pre-procesamiento antes de empezar.\n",
    "1. **Tokenización**: separar en palabras, puntuación, etc.\n",
    "    \"¿Podrías pasarme la sal, hermano? => ¿ Podrías pasar me la sal , hermano ?\"\n",
    "    Agregaremos tokens para \"fin de enunciado\", para \"todo lo que sigue en mayúscula\", etc.\n",
    "\n",
    "En realidad este paso es extremadamente importante, y entre mejor se haga, mejores resultados vas a obtener. Hay muchas decisiones que tomar, y saber sobre lenguaje ayuda, lo cual [está feo](http://www.incompleteideas.net/IncIdeas/BitterLesson.html). Ejemplo, por qué decidí separar \"pasarme\" en \"pasar me\"? ¿Por qué no \"Podrías\" en \"Poder (segunda_persona) (condicional)\"?\n",
    "\n",
    "Probablemente tendría mejores resultados :(\n",
    "\n",
    "Eso no está padre, y obviamente esto tiene que cambiar en el futuro, pero ni modo. Lo bueno es que fastai lo hace por nosotros. Lo malo es que lo hace para inglés.\n",
    "2. **Numericalización**: cada palabra/símbolo se convierte en un entero del 0-n, donde n es el número de palabras. Las palabras que aparezcan menos de cierto número de veces (*e.g.* 3) se cambian por (unknown) \n",
    "\n",
    "3. **Embedding**: A cada token se le asocia un vector con parámetros aprendidos por el modelo de lenguaje."
   ]
  },
  {
   "cell_type": "code",
   "execution_count": 12,
   "metadata": {},
   "outputs": [
    {
     "data": {
      "text/plain": [
       "array([   2,   19,  260, 2436,   15,  158,   19,  222,   49, 5784])"
      ]
     },
     "execution_count": 12,
     "metadata": {},
     "output_type": "execute_result"
    }
   ],
   "source": [
    "data_lm.train_ds[0][0].data[:10]\n"
   ]
  },
  {
   "cell_type": "code",
   "execution_count": 11,
   "metadata": {},
   "outputs": [],
   "source": [
    "learn_lm = ftxt.language_model_learner(data_lm, ftxt.AWD_LSTM)"
   ]
  },
  {
   "cell_type": "code",
   "execution_count": 14,
   "metadata": {},
   "outputs": [
    {
     "data": {
      "text/html": [],
      "text/plain": [
       "<IPython.core.display.HTML object>"
      ]
     },
     "metadata": {},
     "output_type": "display_data"
    },
    {
     "name": "stdout",
     "output_type": "stream",
     "text": [
      "LR Finder is complete, type {learner_name}.recorder.plot() to see the graph.\n"
     ]
    },
    {
     "data": {
      "image/png": "[encoded data removed]",
      "text/plain": [
       "<Figure size 432x288 with 1 Axes>"
      ]
     },
     "metadata": {
      "needs_background": "light"
     },
     "output_type": "display_data"
    }
   ],
   "source": [
    "learn_lm.lr_find(); learn_lm.recorder.plot(skip_end=15)"
   ]
  },
  {
   "cell_type": "code",
   "execution_count": null,
   "metadata": {},
   "outputs": [
    {
     "data": {
      "text/html": [
       "\n",
       "    <div>\n",
       "        <style>\n",
       "            /* Turns off some styling */\n",
       "            progress {\n",
       "                /* gets rid of default border in Firefox and Opera. */\n",
       "                border: none;\n",
       "                /* Needs to be in here for Safari polyfill so background images work as expected. */\n",
       "                background-size: auto;\n",
       "            }\n",
       "            .progress-bar-interrupted, .progress-bar-interrupted::-webkit-progress-bar {\n",
       "                background: #F44336;\n",
       "            }\n",
       "        </style>\n",
       "      <progress value='0' class='' max='1', style='width:300px; height:20px; vertical-align: middle;'></progress>\n",
       "      0.00% [0/1 00:00<00:00]\n",
       "    </div>\n",
       "    \n",
       "<table border=\"1\" class=\"dataframe\">\n",
       "  <thead>\n",
       "    <tr style=\"text-align: left;\">\n",
       "      <th>epoch</th>\n",
       "      <th>train_loss</th>\n",
       "      <th>valid_loss</th>\n",
       "      <th>accuracy</th>\n",
       "      <th>time</th>\n",
       "    </tr>\n",
       "  </thead>\n",
       "  <tbody>\n",
       "  </tbody>\n",
       "</table><p>\n",
       "\n",
       "    <div>\n",
       "        <style>\n",
       "            /* Turns off some styling */\n",
       "            progress {\n",
       "                /* gets rid of default border in Firefox and Opera. */\n",
       "                border: none;\n",
       "                /* Needs to be in here for Safari polyfill so background images work as expected. */\n",
       "                background-size: auto;\n",
       "            }\n",
       "            .progress-bar-interrupted, .progress-bar-interrupted::-webkit-progress-bar {\n",
       "                background: #F44336;\n",
       "            }\n",
       "        </style>\n",
       "      <progress value='661' class='' max='8058', style='width:300px; height:20px; vertical-align: middle;'></progress>\n",
       "      8.20% [661/8058 02:23<26:46 4.8339]\n",
       "    </div>\n",
       "    "
      ],
      "text/plain": [
       "<IPython.core.display.HTML object>"
      ]
     },
     "metadata": {},
     "output_type": "display_data"
    }
   ],
   "source": [
    "learn_lm.fit_one_cycle(1, 1e-2, moms=(0.8,0.7))"
   ]
  },
  {
   "cell_type": "code",
   "execution_count": null,
   "metadata": {},
   "outputs": [],
   "source": [
    "learn_lm.save('lm-1')"
   ]
  },
  {
   "cell_type": "code",
   "execution_count": null,
   "metadata": {},
   "outputs": [],
   "source": [
    "learn_lm.unfreeze()"
   ]
  },
  {
   "cell_type": "code",
   "execution_count": null,
   "metadata": {},
   "outputs": [],
   "source": [
    "learn_lm.fit_one_cycle(10, 1e-3, moms=(0.8,0.7))"
   ]
  },
  {
   "cell_type": "code",
   "execution_count": 23,
   "metadata": {},
   "outputs": [],
   "source": [
    "learn_lm.save(\"lm-2\")"
   ]
  },
  {
   "cell_type": "code",
   "execution_count": 12,
   "metadata": {},
   "outputs": [
    {
     "data": {
      "text/plain": [
       "LanguageLearner(data=TextLMDataBunch;\n",
       "\n",
       "Train: LabelList (90000 items)\n",
       "x: LMTextList\n",
       "xxbos i am proud to say i own an uncut copy of this choice chunk of 70 's xxmaj crown xxmaj international drive - in sexploitation comedy cheese on xxup dvd . xxmaj it 's a really goofy and enjoyably inconsequential flick with a nicely xxunk 70 's vibe to it . xxmaj it does attempt to make a sincere point about true love and friendship being more important in life than a cool set of wheels and a quick piece of tail . xxmaj sure , it 's essentially a blatant adolescent male fantasy pic -- the main teen xxunk character xxmaj bobby xxmaj hamilton gets the girls , the respect of his friends , and a chance to show - up a local van - racing bully -- but it 's way too dopey and good - natured to hate . xxmaj stuart xxmaj getz as our gawky protagonist makes for an endearingly dorky lead , xxmaj deborah xxmaj white as the main object of xxmaj getz 's affection is a definite cutie , xxmaj connie xxmaj lisa xxmaj marie is likewise quite luscious as a beauteous blonde babe , and sneering beefcake xxmaj neanderthal xxmaj stephan xxmaj oliver ( a 60 's biker movie perennial ) is wonderfully hateful as the brutish xxmaj dugan xxmaj hicks . a pre - stardom xxmaj danny devito in particular is an absolute riot as xxmaj getz 's cranky carwash owner boss xxmaj andy , a lovably cantankerous ne'er - do - well slob who wears very ugly loud xxmaj hawaiian shirts and suffers from a severe gambling habit . i especially love the scene where two thugs brutally beat xxmaj danny up -- one holds his arms behind his back while the other guy works over xxmaj danny 's torso ! xxmaj and xxmaj sammy xxmaj johns ' insidiously catchy fluke hit theme song will be bouncing around your skull for at least a week . xxmaj in short , it 's great groovy xxunk 's fun !,xxbos i think this is a lovely family movie . xxmaj there are plenty of hilarious scenes and heart - warming moments to be had throughout the movie . xxmaj the actors are great and the effects well executed throughout . xxmaj danny xxmaj glover plays xxmaj george xxmaj knox who manages the terrible baseball team ' xxmaj the xxmaj angels ' and is great throughout the film . xxmaj also fantastic are the young actors xxmaj joseph xxmaj gordon - xxmaj levitt and xxmaj milton xxmaj davis xxmaj jr. xxmaj christopher xxmaj lloyd is good as xxmaj al ' xxmaj the xxmaj angel ' and the effects are great in this top notch xxmaj disney movie . a touching and heart - warming movie which everyone should enjoy .,xxbos xxmaj to all the haters out there : condemning a xxup tv series with one episode is like judging an entire book after reading the first few pages . xxmaj that being said , i was a huge fan of xxup bsg , thought it was some of the best xxup tv drama ( not just sci - fi ) on the air . xxmaj but it was time for it to end and the story to move on . i liked the xxup bsg epilogue \" xxmaj the xxmaj plan \" , but it raised as many new questions as it answered , so i eagerly anticipated \" xxmaj caprica \" and i was not disappointed . \n",
       " \n",
       "  i was hoping it would not try to be another xxup bsg , and i was pleased that \" xxmaj caprica \" is something different , and i personally found the story exciting , in a different way than blazing space battles , explosions and sci - fi special effects ( do n't get me wrong , i like that stuff too ) . xxmaj eric xxmaj stolz and xxmaj esai xxmaj morales give solid performances , and xxmaj alessandra was just wonderful . i ca n't wait until next week .,xxbos \n",
       " \n",
       "  xxmaj one of the best films i 've ever seen . xxmaj robert xxmaj duvall 's performance was excellent and outstanding . xxmaj he did a wonderful job of making a character really come to life . xxmaj his character was so convincing , it made me almost think i were in the theater watching it live , i give it 5 stars .,xxbos xxmaj this movie is a xxmaj gem because it moves with soft , but firm resolution . \n",
       " \n",
       "  i caution viewers that although it is billed as a xxmaj corporate xxmaj spy thriller and xxmaj ms xxmaj liu is there , it moves at a deftly purposeful yet sedate pace . xxmaj it 's xxup not about explosions , car chases , or flying bullets . xxmaj you must be patient and instead , note the details here . xxmaj it 's sedate because that 's what the xxmaj main xxmaj character is . xxmaj the viewer has to xxup watch him and xxmaj think as this story unfolds . \n",
       " \n",
       "  i will not give spoilers-- because that destroys the point of watching . xxmaj the plot is what you 've read from the other postings : an average white - collar guy , seeking change and adventure , signs on for a corporate spy job . xxmaj just go somewhere and secretly record and transmit inside data . \n",
       " \n",
       "  xxmaj take it from there . \n",
       " \n",
       "  xxmaj this movie starts at a surreal xxunk with a background tang of corporate disillusionment that entwines itself with quintessential , underlying suburban paranoia . \n",
       " \n",
       "  xxmaj then it begins to accelerate . \n",
       " \n",
       "  xxmaj the acting on all parts is xxunk and yes , some of the acts are caricature characters . xxmaj but they all fit , and they entertain . xxmaj and the light piano rhyme in the background is just perfect as the soft , soft key sinister theme : xxmaj all is not right at the beginning . \n",
       " \n",
       "  xxmaj and at the end : xxmaj all is not what it seems . \n",
       " \n",
       "  xxmaj get comfortable and turn the lights down to watch this one-- and turn up the sound : xxmaj this movie wants you to xxup listen .\n",
       "y: LMLabelList\n",
       ",,,,\n",
       "Path: /home/mraggi/.fastai/data/imdb;\n",
       "\n",
       "Valid: LabelList (10000 items)\n",
       "x: LMTextList\n",
       "xxbos xxmaj johnny and xxmaj june xxmaj carter xxmaj cash financed this film which is a traditional rendering of the xxmaj gospel stories . xxmaj the music is great , you get a real feel of what the world of xxmaj jesus looked like ( i 've been there too ) , and xxmaj june gets into the part of xxmaj mary xxmaj magdalene with a passion . xxmaj cash 's narration is good too . \n",
       " \n",
       "  xxmaj but xxrep 4 . \n",
       " \n",
       "  1 . xxmaj the actor who played xxmaj jesus was miscast . 2 . xxmaj there is no edge to the story like xxmaj cash puts in some of his faith based music . 3 . xxmaj because it is uncompelling , i doubt we 'll see this ever widely distributed again . \n",
       " \n",
       "  i 'd love to buy the xxup cd . \n",
       " \n",
       "  xxmaj tom xxmaj paine xxmaj texas , xxup usa,xxbos xxmaj remove yourself from the xxmaj kirk xxmaj douglass aspects of the casting . xxmaj it is essential to your enjoying the film . xxmaj there is a beautiful young woman playing double roles - and in the photos from the 1800 's , i ca n't believe how smooth and white her skin is . xxmaj also , there is an excellent degrading of the film stock which chills the mind if you like faded greys and yellows as i do . xxmaj this film is played on xxup tnt from time to time so see it .,xxbos xxmaj first let me say i 'm sorry for your pain and suffering if you have already seen this movie . xxmaj the movie is no more than a poor at best attempt of an ongoing subject , xxmaj mummies and their curse . i 'm still trying to figure out where the title \" 7 xxmaj mummies \" comes from . xxmaj unless i missed something , which is possible since i had no problem going to the fridge without pausing this waste of time , i only counted 2 mummies . xxmaj if the movie itself was n't enough to make you cringe , the soundtrack will at the very least will give you a \" xxunk xxunk bottom line is that if it were n't for xxmaj cerina xxmaj vincent and the \" xxmaj vamp xxmaj xxunk would n't have even gotten a 3 ! xxmaj the best part of this movie other than looking xxmaj ms xxmaj vincent was the fact that it is only 80 minutes long . xxmaj good thing , i do n't think i could have taken much more .,xxbos xxmaj first of all , xxmaj riget is wonderful . xxmaj good comedy and mystery thriller at the same time . xxmaj nice combination of strange ' dogma ' style of telling the story together with good music and great actors . xxmaj but unfortunately there 's no ' the end ' . xxmaj as for me it 's unacceptable . i was thinking ... how it will be possible to continue the story without xxmaj helmer and xxmaj drusse ? ... and i have some idea . i think xxmaj lars should make xxup riget xxup iii a little bit different . i 'm sure that 3rd part without xxmaj helmer would n't be the same . xxmaj so here 's my suggestion . xxmaj xxunk little bit stupid , maybe not . i know that xxmaj lars likes to experiment . xxmaj so why not to make small experiment with xxmaj xxunk ? i think the only solution here is to create puppet - driven animation ( like for example \" team xxmaj america \" by xxmaj trey xxmaj parker ) or even computer 3d animation . i know it 's not the same as real actors , but in principle i believe it could work ... only this way it 's possible to make actors alive again . xxmaj for xxmaj riget fans this should n't be so big difference - if the animation will be done in good way average ' watcher ' will consider it normal just after first few shots of the movie . xxmaj the most important thing now is the story . xxmaj it 's completely understandable that it 's not possible to create xxmaj riget 3 with the actors nowadays . xxmaj so why not to play with animation ? xxmaj and ... look for the possibilities that it gives to you ! xxmaj even marketing one ! xxmaj great director finishes his trilogy after 10 years using puppet animation . xxmaj just dreams ? \n",
       " \n",
       "  i hope to see xxmaj riget 3 someday ... or even to see just the script . i 'm curious how the story ends ... and as i xxunk everybody here do . \n",
       " \n",
       "  greets , xxunk \n",
       " \n",
       "  ps : i 'm not talking about the \" kingdom hospital \" by xxmaj stephen xxmaj king ;-),xxbos xxmaj this feature film was originally released as the final episode of a xxunk radio serial , which may explain its weaknesses . xxmaj firstly , the fact that every character speaks in some distinctive , but unrealistic , fashion . xxmaj secondly , the incomprehensibly convoluted plot and unlikely coincidences that abound . a scene in which a jilted lover hurls himself off a cliff is unintentionally hilarious . xxmaj after repeated viewings , i still ca n't remember whodunit , not because it is so cleverly hidden from the viewer , but because the solution makes no sense at all .\n",
       "y: LMLabelList\n",
       ",,,,\n",
       "Path: /home/mraggi/.fastai/data/imdb;\n",
       "\n",
       "Test: None, model=SequentialRNN(\n",
       "  (0): AWD_LSTM(\n",
       "    (encoder): Embedding(60004, 400, padding_idx=1)\n",
       "    (encoder_dp): EmbeddingDropout(\n",
       "      (emb): Embedding(60004, 400, padding_idx=1)\n",
       "    )\n",
       "    (rnns): ModuleList(\n",
       "      (0): WeightDropout(\n",
       "        (module): LSTM(400, 1150, batch_first=True)\n",
       "      )\n",
       "      (1): WeightDropout(\n",
       "        (module): LSTM(1150, 1150, batch_first=True)\n",
       "      )\n",
       "      (2): WeightDropout(\n",
       "        (module): LSTM(1150, 400, batch_first=True)\n",
       "      )\n",
       "    )\n",
       "    (input_dp): RNNDropout()\n",
       "    (hidden_dps): ModuleList(\n",
       "      (0): RNNDropout()\n",
       "      (1): RNNDropout()\n",
       "      (2): RNNDropout()\n",
       "    )\n",
       "  )\n",
       "  (1): LinearDecoder(\n",
       "    (decoder): Linear(in_features=400, out_features=60004, bias=True)\n",
       "    (output_dp): RNNDropout()\n",
       "  )\n",
       "), opt_func=functools.partial(<class 'torch.optim.adam.Adam'>, betas=(0.9, 0.99)), loss_func=FlattenedLoss of CrossEntropyLoss(), metrics=[<function accuracy at 0x7f9b20073950>], true_wd=True, bn_wd=True, wd=0.01, train_bn=True, path=PosixPath('/home/mraggi/.fastai/data/imdb'), model_dir='models', callback_fns=[functools.partial(<class 'fastai.basic_train.Recorder'>, add_time=True)], callbacks=[RNNTrainer\n",
       "learn: ...\n",
       "alpha: 2.0\n",
       "beta: 1.0], layer_groups=[Sequential(\n",
       "  (0): WeightDropout(\n",
       "    (module): LSTM(400, 1150, batch_first=True)\n",
       "  )\n",
       "  (1): RNNDropout()\n",
       "), Sequential(\n",
       "  (0): WeightDropout(\n",
       "    (module): LSTM(1150, 1150, batch_first=True)\n",
       "  )\n",
       "  (1): RNNDropout()\n",
       "), Sequential(\n",
       "  (0): WeightDropout(\n",
       "    (module): LSTM(1150, 400, batch_first=True)\n",
       "  )\n",
       "  (1): RNNDropout()\n",
       "), Sequential(\n",
       "  (0): Embedding(60004, 400, padding_idx=1)\n",
       "  (1): EmbeddingDropout(\n",
       "    (emb): Embedding(60004, 400, padding_idx=1)\n",
       "  )\n",
       "  (2): LinearDecoder(\n",
       "    (decoder): Linear(in_features=400, out_features=60004, bias=True)\n",
       "    (output_dp): RNNDropout()\n",
       "  )\n",
       ")], add_time=True)"
      ]
     },
     "execution_count": 12,
     "metadata": {},
     "output_type": "execute_result"
    }
   ],
   "source": [
    "learn_lm.load(\"lm-2\")"
   ]
  },
  {
   "cell_type": "code",
   "execution_count": 24,
   "metadata": {},
   "outputs": [
    {
     "data": {
      "text/plain": [
       "[3.6904836, tensor(0.3351)]"
      ]
     },
     "execution_count": 24,
     "metadata": {},
     "output_type": "execute_result"
    }
   ],
   "source": [
    "learn_lm.validate()"
   ]
  },
  {
   "cell_type": "markdown",
   "metadata": {},
   "source": [
    "Obtenemos accuracy de 33%!! Eso es muchísisimo! Piénsalo: Dadas unas palabras, un tercio de las veces podemos predecir la siguiente palabra!\n",
    "\n",
    "Bueno, no es tanto, porque a veces es ________ predecir la palabra siguiente"
   ]
  },
  {
   "cell_type": "code",
   "execution_count": 27,
   "metadata": {},
   "outputs": [
    {
     "data": {
      "text/plain": [
       "'This movie is awful because it is a very suspenseful British thriller . This is a good movie with a good premise and one that is fine , a good performance by British actress May Robson as a troubled wife'"
      ]
     },
     "execution_count": 27,
     "metadata": {},
     "output_type": "execute_result"
    }
   ],
   "source": [
    "learn_lm.predict(\"This movie is awful because\", 40, temperature=0.75)"
   ]
  },
  {
   "cell_type": "code",
   "execution_count": 22,
   "metadata": {},
   "outputs": [
    {
     "data": {
      "text/plain": [
       "SequentialRNN(\n",
       "  (0): AWD_LSTM(\n",
       "    (encoder): Embedding(60004, 400, padding_idx=1)\n",
       "    (encoder_dp): EmbeddingDropout(\n",
       "      (emb): Embedding(60004, 400, padding_idx=1)\n",
       "    )\n",
       "    (rnns): ModuleList(\n",
       "      (0): WeightDropout(\n",
       "        (module): LSTM(400, 1150, batch_first=True)\n",
       "      )\n",
       "      (1): WeightDropout(\n",
       "        (module): LSTM(1150, 1150, batch_first=True)\n",
       "      )\n",
       "      (2): WeightDropout(\n",
       "        (module): LSTM(1150, 400, batch_first=True)\n",
       "      )\n",
       "    )\n",
       "    (input_dp): RNNDropout()\n",
       "    (hidden_dps): ModuleList(\n",
       "      (0): RNNDropout()\n",
       "      (1): RNNDropout()\n",
       "      (2): RNNDropout()\n",
       "    )\n",
       "  )\n",
       "  (1): LinearDecoder(\n",
       "    (decoder): Linear(in_features=400, out_features=60004, bias=True)\n",
       "    (output_dp): RNNDropout()\n",
       "  )\n",
       ")"
      ]
     },
     "execution_count": 22,
     "metadata": {},
     "output_type": "execute_result"
    }
   ],
   "source": [
    "learn_lm.model"
   ]
  },
  {
   "cell_type": "markdown",
   "metadata": {},
   "source": [
    "Listo, ahora vamos a guardar el \"encoder\" del language model para poderlo usar en el clasificador."
   ]
  },
  {
   "cell_type": "code",
   "execution_count": 36,
   "metadata": {},
   "outputs": [],
   "source": [
    "learn_lm.save_encoder('fine_tuned_encoder')"
   ]
  },
  {
   "cell_type": "markdown",
   "metadata": {},
   "source": [
    "Para cargar los datos del clasificador, es igual que antes: la única diferencia es que tenemos que explícitamente darle el vocabulario que usaremos (que encontró el language model)."
   ]
  },
  {
   "cell_type": "code",
   "execution_count": 10,
   "metadata": {},
   "outputs": [],
   "source": [
    "def load_clas_data(path, vocab, batch_size):\n",
    "    return (ftxt.TextList\n",
    "            .from_folder(path, vocab=vocab)\n",
    "            .split_by_folder(valid='test')\n",
    "            .label_from_folder(classes=['neg','pos'])\n",
    "            .databunch(bs=batch_size))"
   ]
  },
  {
   "cell_type": "code",
   "execution_count": 11,
   "metadata": {},
   "outputs": [],
   "source": [
    "data = load_clas_data(path,data_lm.vocab,10)"
   ]
  },
  {
   "cell_type": "code",
   "execution_count": 31,
   "metadata": {},
   "outputs": [
    {
     "data": {
      "text/html": [
       "<table border=\"1\" class=\"dataframe\">\n",
       "  <thead>\n",
       "    <tr style=\"text-align: right;\">\n",
       "      <th>text</th>\n",
       "      <th>target</th>\n",
       "    </tr>\n",
       "  </thead>\n",
       "  <tbody>\n",
       "    <tr>\n",
       "      <td>xxbos xxmaj match 1 : xxmaj tag xxmaj team xxmaj table xxmaj match xxmaj bubba xxmaj ray and xxmaj spike xxmaj dudley vs xxmaj eddie xxmaj guerrero and xxmaj chris xxmaj benoit xxmaj bubba xxmaj ray and xxmaj spike xxmaj dudley started things off with a xxmaj tag xxmaj team xxmaj table xxmaj match against xxmaj eddie xxmaj guerrero and xxmaj chris xxmaj benoit . xxmaj according to the rules</td>\n",
       "      <td>pos</td>\n",
       "    </tr>\n",
       "    <tr>\n",
       "      <td>xxbos xxmaj some have praised _ xxunk _ as a xxmaj disney adventure for adults . i do n't think so -- at least not for thinking adults . \\n \\n  xxmaj this script suggests a beginning as a live - action movie , that struck someone as the type of crap you can not sell to adults anymore . xxmaj the \" crack staff \" of many older</td>\n",
       "      <td>neg</td>\n",
       "    </tr>\n",
       "    <tr>\n",
       "      <td>xxbos xxmaj waitress : xxmaj honey , here 's them eggs you ordered . xxmaj honey , like bee , get it ? xxmaj that 's called pointless foreshadowing . \\n \\n  xxmaj edward xxmaj basket : xxmaj huh ? ( xxmaj on the road ) xxmaj basket : xxmaj here 's your doll back , little girl . xxmaj you really should n't be so careless with your</td>\n",
       "      <td>neg</td>\n",
       "    </tr>\n",
       "    <tr>\n",
       "      <td>xxbos xxmaj on xxmaj sunday xxmaj july 27 , 1997 , the first episode of a new science fiction series called \" xxmaj stargate xxup sg-1 \" was broadcast on xxmaj showtime . a spin - off of and sequel to the 1994 film \" xxmaj stargate \" starring xxmaj kurt xxmaj russell and xxmaj james xxmaj spader , the series begins approximately one year after the events portrayed in</td>\n",
       "      <td>pos</td>\n",
       "    </tr>\n",
       "    <tr>\n",
       "      <td>xxbos xxmaj beat a path to this important documentary that looks like an attractive feature . xxmaj forbidden xxmaj xxunk ) is simply a better ( cinematic ) version of xxmaj norma xxmaj khouri 's book xxmaj forbidden xxmaj love , and xxup that was a best - seller . xxmaj an onion - peeling of literary fraud and of a pretty woman , xxmaj xxunk is the very best</td>\n",
       "      <td>pos</td>\n",
       "    </tr>\n",
       "  </tbody>\n",
       "</table>"
      ],
      "text/plain": [
       "<IPython.core.display.HTML object>"
      ]
     },
     "metadata": {},
     "output_type": "display_data"
    }
   ],
   "source": [
    "data.show_batch()"
   ]
  },
  {
   "cell_type": "markdown",
   "metadata": {},
   "source": [
    "- xxbos = begining of sentence\n",
    "- xxmaj = mayúscula la primera\n",
    "- xxup = toda la siguiente palabra en mayúsculas\n",
    "- xxunk = palabra no conocida\n",
    "- etc."
   ]
  },
  {
   "cell_type": "code",
   "execution_count": 12,
   "metadata": {},
   "outputs": [],
   "source": [
    "learn = ftxt.text_classifier_learner(data, ftxt.AWD_LSTM, drop_mult=0.5)\n",
    "learn.load_encoder('fine_tuned_encoder')"
   ]
  },
  {
   "cell_type": "code",
   "execution_count": 35,
   "metadata": {},
   "outputs": [
    {
     "data": {
      "text/html": [],
      "text/plain": [
       "<IPython.core.display.HTML object>"
      ]
     },
     "metadata": {},
     "output_type": "display_data"
    },
    {
     "name": "stdout",
     "output_type": "stream",
     "text": [
      "LR Finder is complete, type {learner_name}.recorder.plot() to see the graph.\n"
     ]
    },
    {
     "data": {
      "image/png": "[encoded data removed]",
      "text/plain": [
       "<Figure size 432x288 with 1 Axes>"
      ]
     },
     "metadata": {
      "needs_background": "light"
     },
     "output_type": "display_data"
    }
   ],
   "source": [
    "learn.lr_find(); learn.recorder.plot()"
   ]
  },
  {
   "cell_type": "code",
   "execution_count": 37,
   "metadata": {},
   "outputs": [
    {
     "data": {
      "text/html": [
       "<table border=\"1\" class=\"dataframe\">\n",
       "  <thead>\n",
       "    <tr style=\"text-align: left;\">\n",
       "      <th>epoch</th>\n",
       "      <th>train_loss</th>\n",
       "      <th>valid_loss</th>\n",
       "      <th>accuracy</th>\n",
       "      <th>time</th>\n",
       "    </tr>\n",
       "  </thead>\n",
       "  <tbody>\n",
       "    <tr>\n",
       "      <td>0</td>\n",
       "      <td>0.260108</td>\n",
       "      <td>0.194600</td>\n",
       "      <td>0.924720</td>\n",
       "      <td>04:14</td>\n",
       "    </tr>\n",
       "  </tbody>\n",
       "</table>"
      ],
      "text/plain": [
       "<IPython.core.display.HTML object>"
      ]
     },
     "metadata": {},
     "output_type": "display_data"
    }
   ],
   "source": [
    "learn.fit_one_cycle(1,3e-2,moms=(0.8,0.7))"
   ]
  },
  {
   "cell_type": "code",
   "execution_count": 38,
   "metadata": {},
   "outputs": [],
   "source": [
    "learn.save('stage-1')"
   ]
  },
  {
   "cell_type": "code",
   "execution_count": 25,
   "metadata": {},
   "outputs": [
    {
     "data": {
      "text/plain": [
       "5"
      ]
     },
     "execution_count": 25,
     "metadata": {},
     "output_type": "execute_result"
    }
   ],
   "source": [
    "len(learn.layer_groups)"
   ]
  },
  {
   "cell_type": "code",
   "execution_count": 39,
   "metadata": {},
   "outputs": [],
   "source": [
    "learn.freeze_to(-2)"
   ]
  },
  {
   "cell_type": "code",
   "execution_count": 40,
   "metadata": {},
   "outputs": [
    {
     "data": {
      "text/html": [],
      "text/plain": [
       "<IPython.core.display.HTML object>"
      ]
     },
     "metadata": {},
     "output_type": "display_data"
    },
    {
     "name": "stdout",
     "output_type": "stream",
     "text": [
      "LR Finder is complete, type {learner_name}.recorder.plot() to see the graph.\n"
     ]
    },
    {
     "data": {
      "image/png": "[encoded data removed]",
      "text/plain": [
       "<Figure size 432x288 with 1 Axes>"
      ]
     },
     "metadata": {
      "needs_background": "light"
     },
     "output_type": "display_data"
    }
   ],
   "source": [
    "learn.lr_find(); learn.recorder.plot()"
   ]
  },
  {
   "cell_type": "code",
   "execution_count": 41,
   "metadata": {},
   "outputs": [
    {
     "data": {
      "text/html": [
       "<table border=\"1\" class=\"dataframe\">\n",
       "  <thead>\n",
       "    <tr style=\"text-align: left;\">\n",
       "      <th>epoch</th>\n",
       "      <th>train_loss</th>\n",
       "      <th>valid_loss</th>\n",
       "      <th>accuracy</th>\n",
       "      <th>time</th>\n",
       "    </tr>\n",
       "  </thead>\n",
       "  <tbody>\n",
       "    <tr>\n",
       "      <td>0</td>\n",
       "      <td>0.241510</td>\n",
       "      <td>0.174818</td>\n",
       "      <td>0.932760</td>\n",
       "      <td>04:41</td>\n",
       "    </tr>\n",
       "  </tbody>\n",
       "</table>"
      ],
      "text/plain": [
       "<IPython.core.display.HTML object>"
      ]
     },
     "metadata": {},
     "output_type": "display_data"
    }
   ],
   "source": [
    "learn.fit_one_cycle(1,slice(3e-4,1e-2),moms=(0.8,0.7))"
   ]
  },
  {
   "cell_type": "code",
   "execution_count": 42,
   "metadata": {},
   "outputs": [],
   "source": [
    "learn.save('stage-2')"
   ]
  },
  {
   "cell_type": "code",
   "execution_count": 16,
   "metadata": {},
   "outputs": [
    {
     "data": {
      "text/plain": [
       "RNNLearner(data=TextClasDataBunch;\n",
       "\n",
       "Train: LabelList (25000 items)\n",
       "x: TextList\n",
       "xxbos i am proud to say i own an uncut copy of this choice chunk of 70 's xxmaj crown xxmaj international drive - in sexploitation comedy cheese on xxup dvd . xxmaj it 's a really goofy and enjoyably inconsequential flick with a nicely xxunk 70 's vibe to it . xxmaj it does attempt to make a sincere point about true love and friendship being more important in life than a cool set of wheels and a quick piece of tail . xxmaj sure , it 's essentially a blatant adolescent male fantasy pic -- the main teen xxunk character xxmaj bobby xxmaj hamilton gets the girls , the respect of his friends , and a chance to show - up a local van - racing bully -- but it 's way too dopey and good - natured to hate . xxmaj stuart xxmaj getz as our gawky protagonist makes for an endearingly dorky lead , xxmaj deborah xxmaj white as the main object of xxmaj getz 's affection is a definite cutie , xxmaj connie xxmaj lisa xxmaj marie is likewise quite luscious as a beauteous blonde babe , and sneering beefcake xxmaj neanderthal xxmaj stephan xxmaj oliver ( a 60 's biker movie perennial ) is wonderfully hateful as the brutish xxmaj dugan xxmaj hicks . a pre - stardom xxmaj danny devito in particular is an absolute riot as xxmaj getz 's cranky carwash owner boss xxmaj andy , a lovably cantankerous ne'er - do - well slob who wears very ugly loud xxmaj hawaiian shirts and suffers from a severe gambling habit . i especially love the scene where two thugs brutally beat xxmaj danny up -- one holds his arms behind his back while the other guy works over xxmaj danny 's torso ! xxmaj and xxmaj sammy xxmaj johns ' insidiously catchy fluke hit theme song will be bouncing around your skull for at least a week . xxmaj in short , it 's great groovy xxunk 's fun !,xxbos i think this is a lovely family movie . xxmaj there are plenty of hilarious scenes and heart - warming moments to be had throughout the movie . xxmaj the actors are great and the effects well executed throughout . xxmaj danny xxmaj glover plays xxmaj george xxmaj knox who manages the terrible baseball team ' xxmaj the xxmaj angels ' and is great throughout the film . xxmaj also fantastic are the young actors xxmaj joseph xxmaj gordon - xxmaj levitt and xxmaj milton xxmaj davis xxmaj jr. xxmaj christopher xxmaj lloyd is good as xxmaj al ' xxmaj the xxmaj angel ' and the effects are great in this top notch xxmaj disney movie . a touching and heart - warming movie which everyone should enjoy .,xxbos xxmaj anyone who loves the xxmaj rheostatics ' music is going to enjoy this film . i have some minor complaints , mainly about pacing and the casting of certain actors ( not xxmaj maury ) who are n't really convincing in their roles , but i do n't have time write a detailed review . i just want to warn anyone who has seen this film or plans to watch this film as presented xxup cbc television in xxmaj canada : xxmaj the version that airs are the xxup cbc is like the xxmaj reader 's xxmaj digest version of xxup whale xxup music --- don't watch it . xxmaj it cuts out entire scenes and subplots ( if you can them that ) from the film . xxmaj the xxup cbc , which presents most of films untouched , took half the guts out of xxup whale xxup music . i do n't know why . xxmaj it 's horrible what they did to the film . xxmaj rent the video or watch it in a theatre , but xxup don't watch it on xxup cbc television .,xxbos xxmaj to all the haters out there : condemning a xxup tv series with one episode is like judging an entire book after reading the first few pages . xxmaj that being said , i was a huge fan of xxup bsg , thought it was some of the best xxup tv drama ( not just sci - fi ) on the air . xxmaj but it was time for it to end and the story to move on . i liked the xxup bsg epilogue \" xxmaj the xxmaj plan \" , but it raised as many new questions as it answered , so i eagerly anticipated \" xxmaj caprica \" and i was not disappointed . \n",
       " \n",
       "  i was hoping it would not try to be another xxup bsg , and i was pleased that \" xxmaj caprica \" is something different , and i personally found the story exciting , in a different way than blazing space battles , explosions and sci - fi special effects ( do n't get me wrong , i like that stuff too ) . xxmaj eric xxmaj stolz and xxmaj esai xxmaj morales give solid performances , and xxmaj alessandra was just wonderful . i ca n't wait until next week .,xxbos \n",
       " \n",
       "  xxmaj one of the best films i 've ever seen . xxmaj robert xxmaj duvall 's performance was excellent and outstanding . xxmaj he did a wonderful job of making a character really come to life . xxmaj his character was so convincing , it made me almost think i were in the theater watching it live , i give it 5 stars .\n",
       "y: CategoryList\n",
       "pos,pos,pos,pos,pos\n",
       "Path: /home/mraggi/.fastai/data/imdb;\n",
       "\n",
       "Valid: LabelList (25000 items)\n",
       "x: TextList\n",
       "xxbos xxmaj walter xxmaj matthau is wonderful as the \" philandering \" dentist xxmaj dr. xxmaj julian xxmaj winston whose frequent xxunk to girlfriend xxmaj goldie provide textbook proof of the dangers of lying . xxmaj goldie xxmaj hawn 's touching kook xxmaj toni xxmaj simmons certainly deserved to win her xxmaj oscar . xxmaj ingrid xxmaj bergman 's work as the stiff - as - starch nurse xxmaj stephanie is also touching to watch as she comes out of her shell , slowly and nervously . xxmaj this is a great movie to watch in the springtime , or any time for that matter . xxmaj it 's very underrated ; i never heard about it until i found it in the video store , and what a find !,xxbos i loved it . i had just sat through half of \" xxmaj the xxmaj glass xxmaj house \" ( turned it off ... god what a morass of predictable plot and bad acting ) and then i saw this movie . i thought it was terrific . xxmaj loved both xxmaj cameron xxmaj diaz and xxmaj jordana xxmaj brewster in it . i liked the escapism of the whole setting , the traveling around xxmaj europe in the 60 's thing - yet they made it more realistic by showing the dark side and all of the bad things that could happen . xxmaj it held my attention completely , even if i did think that parts were unbelievable .,xxbos xxmaj who 's the xxunk what 's that i hear ? a resounding cry of xxmaj kevin ? xxmaj well if you did n't shout for the ' usual suspect ' i 'd recommend changing your medicated prescription . xxmaj anyway this xxmaj is no first class movie , just a very well produced story , that is almost believable . xxmaj considering its about an xxmaj alien your probably wondering what the ? xxmaj all acting is top stuff and also the first i 've seen a balanced , sarcastic xxmaj alien . xxmaj just enjoyable is all i can say and almost for the whole family ( if not for the scene later in the movie ) . xxup seven xxup stars,xxbos xxmaj sensitive , extremely quiet paced love story between a married journalist and his young and xxunk neighbor , she too also married . xxmaj they lived their love for a time but the obstacles and the fear of hurting their families and children invites to a separation . a reflexive look on delicate question like love , friendship , honor and loneliness , always present in human lives , whether you are an xxmaj american or a xxmaj chinese . i give this a 7 ( seven ),xxbos xxmaj my family truly enjoyed this movie . xxmaj as far as what this movie will do for xxmaj rugby in the xxup usa ... well i am sure that will be debatable . xxmaj but as for me and others around me , i know that we were more curious about the sport after seeing the movie and i personally gained more respect for the game . xxmaj you may wonder how this possible , especially since the movie does not dive in and explain xxmaj rugby . xxmaj but the simple fact is it drew you into the players and emotion of the game and life . xxmaj the film was inspirational as well as entertaining . xxmaj it made us laugh and cry . xxmaj the chemistry between xxmaj sean xxmaj astin , xxmaj big xxmaj xxunk and xxmaj sean xxmaj faris worked well . xxmaj some may think the movie is a little cliché , but i seriously wish xxmaj hollywood made more movies like this . i could n't help drawing analogies of the game and life 's struggles . xxmaj at the end of it i found myself examining my own life to see what i needed to do better , in order to be the best person i could be . xxmaj honestly i was grateful this movie taught morals , values and teamwork , there is so much to the contrary . xxmaj after watching this i really hope my kids are coached by someone who has a philosophy like xxmaj coach xxmaj gelwix .\n",
       "y: CategoryList\n",
       "pos,pos,pos,pos,pos\n",
       "Path: /home/mraggi/.fastai/data/imdb;\n",
       "\n",
       "Test: None, model=SequentialRNN(\n",
       "  (0): MultiBatchEncoder(\n",
       "    (module): AWD_LSTM(\n",
       "      (encoder): Embedding(60004, 400, padding_idx=1)\n",
       "      (encoder_dp): EmbeddingDropout(\n",
       "        (emb): Embedding(60004, 400, padding_idx=1)\n",
       "      )\n",
       "      (rnns): ModuleList(\n",
       "        (0): WeightDropout(\n",
       "          (module): LSTM(400, 1150, batch_first=True)\n",
       "        )\n",
       "        (1): WeightDropout(\n",
       "          (module): LSTM(1150, 1150, batch_first=True)\n",
       "        )\n",
       "        (2): WeightDropout(\n",
       "          (module): LSTM(1150, 400, batch_first=True)\n",
       "        )\n",
       "      )\n",
       "      (input_dp): RNNDropout()\n",
       "      (hidden_dps): ModuleList(\n",
       "        (0): RNNDropout()\n",
       "        (1): RNNDropout()\n",
       "        (2): RNNDropout()\n",
       "      )\n",
       "    )\n",
       "  )\n",
       "  (1): PoolingLinearClassifier(\n",
       "    (layers): Sequential(\n",
       "      (0): BatchNorm1d(1200, eps=1e-05, momentum=0.1, affine=True, track_running_stats=True)\n",
       "      (1): Dropout(p=0.2)\n",
       "      (2): Linear(in_features=1200, out_features=50, bias=True)\n",
       "      (3): ReLU(inplace)\n",
       "      (4): BatchNorm1d(50, eps=1e-05, momentum=0.1, affine=True, track_running_stats=True)\n",
       "      (5): Dropout(p=0.1)\n",
       "      (6): Linear(in_features=50, out_features=2, bias=True)\n",
       "    )\n",
       "  )\n",
       "), opt_func=functools.partial(<class 'torch.optim.adam.Adam'>, betas=(0.9, 0.99)), loss_func=FlattenedLoss of CrossEntropyLoss(), metrics=[<function accuracy at 0x7f9b20073950>], true_wd=True, bn_wd=True, wd=0.01, train_bn=True, path=PosixPath('/home/mraggi/.fastai/data/imdb'), model_dir='models', callback_fns=[functools.partial(<class 'fastai.basic_train.Recorder'>, add_time=True)], callbacks=[RNNTrainer\n",
       "learn: ...\n",
       "alpha: 2.0\n",
       "beta: 1.0], layer_groups=[Sequential(\n",
       "  (0): Embedding(60004, 400, padding_idx=1)\n",
       "  (1): EmbeddingDropout(\n",
       "    (emb): Embedding(60004, 400, padding_idx=1)\n",
       "  )\n",
       "), Sequential(\n",
       "  (0): WeightDropout(\n",
       "    (module): LSTM(400, 1150, batch_first=True)\n",
       "  )\n",
       "  (1): RNNDropout()\n",
       "), Sequential(\n",
       "  (0): WeightDropout(\n",
       "    (module): LSTM(1150, 1150, batch_first=True)\n",
       "  )\n",
       "  (1): RNNDropout()\n",
       "), Sequential(\n",
       "  (0): WeightDropout(\n",
       "    (module): LSTM(1150, 400, batch_first=True)\n",
       "  )\n",
       "  (1): RNNDropout()\n",
       "), Sequential(\n",
       "  (0): PoolingLinearClassifier(\n",
       "    (layers): Sequential(\n",
       "      (0): BatchNorm1d(1200, eps=1e-05, momentum=0.1, affine=True, track_running_stats=True)\n",
       "      (1): Dropout(p=0.2)\n",
       "      (2): Linear(in_features=1200, out_features=50, bias=True)\n",
       "      (3): ReLU(inplace)\n",
       "      (4): BatchNorm1d(50, eps=1e-05, momentum=0.1, affine=True, track_running_stats=True)\n",
       "      (5): Dropout(p=0.1)\n",
       "      (6): Linear(in_features=50, out_features=2, bias=True)\n",
       "    )\n",
       "  )\n",
       ")], add_time=True)"
      ]
     },
     "execution_count": 16,
     "metadata": {},
     "output_type": "execute_result"
    }
   ],
   "source": [
    "learn.load('stage-2')"
   ]
  },
  {
   "cell_type": "code",
   "execution_count": 17,
   "metadata": {},
   "outputs": [],
   "source": [
    "learn.freeze_to(-3)"
   ]
  },
  {
   "cell_type": "code",
   "execution_count": 18,
   "metadata": {},
   "outputs": [
    {
     "data": {
      "text/html": [
       "<table border=\"1\" class=\"dataframe\">\n",
       "  <thead>\n",
       "    <tr style=\"text-align: left;\">\n",
       "      <th>epoch</th>\n",
       "      <th>train_loss</th>\n",
       "      <th>valid_loss</th>\n",
       "      <th>accuracy</th>\n",
       "      <th>time</th>\n",
       "    </tr>\n",
       "  </thead>\n",
       "  <tbody>\n",
       "    <tr>\n",
       "      <td>0</td>\n",
       "      <td>0.195136</td>\n",
       "      <td>0.154484</td>\n",
       "      <td>0.942720</td>\n",
       "      <td>07:28</td>\n",
       "    </tr>\n",
       "  </tbody>\n",
       "</table>"
      ],
      "text/plain": [
       "<IPython.core.display.HTML object>"
      ]
     },
     "metadata": {},
     "output_type": "display_data"
    }
   ],
   "source": [
    "learn.fit_one_cycle(1,slice(1e-4,5e-3),moms=(0.8,0.7))"
   ]
  },
  {
   "cell_type": "code",
   "execution_count": 19,
   "metadata": {},
   "outputs": [],
   "source": [
    "learn.save('stage-3')"
   ]
  },
  {
   "cell_type": "code",
   "execution_count": 13,
   "metadata": {},
   "outputs": [],
   "source": [
    "learn.load('stage-3');"
   ]
  },
  {
   "cell_type": "code",
   "execution_count": 14,
   "metadata": {},
   "outputs": [],
   "source": [
    "learn.unfreeze()"
   ]
  },
  {
   "cell_type": "code",
   "execution_count": 15,
   "metadata": {},
   "outputs": [],
   "source": [
    "gc.collect()\n",
    "torch.cuda.empty_cache()"
   ]
  },
  {
   "cell_type": "code",
   "execution_count": 16,
   "metadata": {},
   "outputs": [
    {
     "data": {
      "text/html": [
       "<table border=\"1\" class=\"dataframe\">\n",
       "  <thead>\n",
       "    <tr style=\"text-align: left;\">\n",
       "      <th>epoch</th>\n",
       "      <th>train_loss</th>\n",
       "      <th>valid_loss</th>\n",
       "      <th>accuracy</th>\n",
       "      <th>time</th>\n",
       "    </tr>\n",
       "  </thead>\n",
       "  <tbody>\n",
       "    <tr>\n",
       "      <td>0</td>\n",
       "      <td>0.219084</td>\n",
       "      <td>0.155877</td>\n",
       "      <td>0.943600</td>\n",
       "      <td>26:01</td>\n",
       "    </tr>\n",
       "    <tr>\n",
       "      <td>1</td>\n",
       "      <td>0.165924</td>\n",
       "      <td>0.150987</td>\n",
       "      <td>0.946200</td>\n",
       "      <td>26:04</td>\n",
       "    </tr>\n",
       "  </tbody>\n",
       "</table>"
      ],
      "text/plain": [
       "<IPython.core.display.HTML object>"
      ]
     },
     "metadata": {},
     "output_type": "display_data"
    }
   ],
   "source": [
    "learn.fit_one_cycle(2,slice(3e-5,1e-3), moms=(0.8,0.7))"
   ]
  },
  {
   "cell_type": "markdown",
   "metadata": {},
   "source": [
    "Nada mal, considerando que el estado del arte [es 95.2](http://nlpprogress.com/english/sentiment_analysis.html) (del creador de fast.ai, Jeremy Howard), usando exactamente lo mismo (pero con más feature engineering)."
   ]
  }
 ],
 "metadata": {
  "kernelspec": {
   "display_name": "Python 3",
   "language": "python",
   "name": "python3"
  },
  "language_info": {
   "codemirror_mode": {
    "name": "ipython",
    "version": 3
   },
   "file_extension": ".py",
   "mimetype": "text/x-python",
   "name": "python",
   "nbconvert_exporter": "python",
   "pygments_lexer": "ipython3",
   "version": "3.7.3"
  }
 },
 "nbformat": 4,
 "nbformat_minor": 2
}
