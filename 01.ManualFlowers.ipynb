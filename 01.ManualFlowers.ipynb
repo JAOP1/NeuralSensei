{
 "cells": [
  {
   "cell_type": "markdown",
   "metadata": {},
   "source": [
    "# Clasificador de flores Manual\n",
    "En esta lección vamos a programar nuestro model desde 0. No usaremos transfer learning, así que no obtendremos un resultado tan bueno (o siquiera \"bueno\"). Haremos una red pequeña."
   ]
  },
  {
   "cell_type": "code",
   "execution_count": 1,
   "metadata": {},
   "outputs": [],
   "source": [
    "%matplotlib inline\n",
    "%reload_ext autoreload\n",
    "%autoreload 2"
   ]
  },
  {
   "cell_type": "code",
   "execution_count": 2,
   "metadata": {},
   "outputs": [],
   "source": [
    "import fastai as fai\n",
    "import fastai.vision as fv\n",
    "\n",
    "import torch\n",
    "import torch.nn as nn\n",
    "import torch.nn.functional as F\n",
    "\n",
    "import gc\n",
    "from pathlib import Path"
   ]
  },
  {
   "cell_type": "code",
   "execution_count": 3,
   "metadata": {},
   "outputs": [],
   "source": [
    "flowers = Path(\"flowers\")"
   ]
  },
  {
   "cell_type": "code",
   "execution_count": 4,
   "metadata": {},
   "outputs": [],
   "source": [
    "tfms = fv.get_transforms(flip_vert=True, max_rotate=360) #tfms = transforms"
   ]
  },
  {
   "cell_type": "code",
   "execution_count": 5,
   "metadata": {},
   "outputs": [],
   "source": [
    "def load_data(folder, img_size, batch_size):  \n",
    "    data = (fv.ImageItemList\n",
    "            .from_folder(folder)\n",
    "            .split_by_folder()\n",
    "            .label_from_folder()\n",
    "            .transform(tfms,size=img_size)\n",
    "            .databunch(bs=batch_size))\n",
    "    return data"
   ]
  },
  {
   "cell_type": "code",
   "execution_count": 6,
   "metadata": {},
   "outputs": [],
   "source": [
    "data = load_data(flowers, img_size=192, batch_size=80)"
   ]
  },
  {
   "cell_type": "markdown",
   "metadata": {},
   "source": [
    "## Algunas funciones de ayuda\n",
    "\n",
    "Para nuestro primer modelo vamos a crear algunas capas y funciones de ayuda. Honestamente, no se por qué no las trae pytorch, si son bien útiles."
   ]
  },
  {
   "cell_type": "code",
   "execution_count": 7,
   "metadata": {},
   "outputs": [],
   "source": [
    "# Esta capa servirá para conectar las convolucionales con las lineales (densas)\n",
    "class Flatten(nn.Module):\n",
    "    def __init__(self):\n",
    "        super().__init__()\n",
    "    def forward(self, x):\n",
    "        return x.squeeze()\n",
    "\n",
    "# para tener idea de qué tan grande es nuestro modelo\n",
    "def num_params(model):\n",
    "    total=0\n",
    "    for p in list(model.parameters()):\n",
    "        num=1\n",
    "        for s in list(p.size()):\n",
    "            num *= s\n",
    "        total += num\n",
    "    return total"
   ]
  },
  {
   "cell_type": "code",
   "execution_count": 48,
   "metadata": {},
   "outputs": [
    {
     "data": {
      "text/plain": [
       "Sequential(\n",
       "  (0): Conv2d(3, 64, kernel_size=(7, 7), stride=(2, 2), padding=(3, 3))\n",
       "  (1): ReLU(inplace)\n",
       "  (2): MaxPool2d(kernel_size=2, stride=2, padding=0, dilation=1, ceil_mode=False)\n",
       "  (3): Conv2d(64, 128, kernel_size=(3, 3), stride=(1, 1), padding=(1, 1))\n",
       "  (4): ReLU(inplace)\n",
       "  (5): MaxPool2d(kernel_size=2, stride=2, padding=0, dilation=1, ceil_mode=False)\n",
       "  (6): Conv2d(128, 192, kernel_size=(3, 3), stride=(1, 1), padding=(1, 1))\n",
       "  (7): ReLU(inplace)\n",
       "  (8): MaxPool2d(kernel_size=2, stride=2, padding=0, dilation=1, ceil_mode=False)\n",
       "  (9): Conv2d(192, 256, kernel_size=(3, 3), stride=(1, 1), padding=(1, 1))\n",
       "  (10): ReLU(inplace)\n",
       "  (11): MaxPool2d(kernel_size=2, stride=2, padding=0, dilation=1, ceil_mode=False)\n",
       "  (12): Conv2d(256, 384, kernel_size=(3, 3), stride=(1, 1), padding=(1, 1))\n",
       "  (13): Tanh()\n",
       "  (14): AdaptiveConcatPool2d(\n",
       "    (ap): AdaptiveAvgPool2d(output_size=1)\n",
       "    (mp): AdaptiveMaxPool2d(output_size=1)\n",
       "  )\n",
       "  (15): Flatten()\n",
       "  (16): Linear(in_features=768, out_features=256, bias=True)\n",
       "  (17): LeakyReLU(negative_slope=0.01, inplace)\n",
       "  (18): Linear(in_features=256, out_features=102, bias=True)\n",
       ")"
      ]
     },
     "execution_count": 48,
     "metadata": {},
     "output_type": "execute_result"
    }
   ],
   "source": [
    "# Primer intento: completamente manual!\n",
    "model = nn.Sequential(\n",
    "            nn.Conv2d(3, 64, kernel_size=7, stride=2, padding=3),\n",
    "            nn.ReLU(inplace=True),\n",
    "            nn.MaxPool2d(2),\n",
    "            nn.Conv2d(64, 128, kernel_size=3, stride=1, padding=1),\n",
    "            nn.ReLU(inplace=True),\n",
    "            nn.MaxPool2d(2),\n",
    "            nn.Conv2d(128, 192, kernel_size=3, stride=1, padding=1),\n",
    "            nn.ReLU(inplace=True),\n",
    "            nn.MaxPool2d(2),\n",
    "            nn.Conv2d(192, 256, kernel_size=3, stride=1, padding=1),\n",
    "            nn.ReLU(inplace=True),\n",
    "            nn.MaxPool2d(2),\n",
    "            nn.Conv2d(256, 384, kernel_size=3, stride=1, padding=1),\n",
    "            nn.Tanh(),\n",
    "            fai.AdaptiveConcatPool2d(),\n",
    "            Flatten(),\n",
    "            nn.Linear(384*2, 256),\n",
    "            nn.LeakyReLU(inplace=True),\n",
    "            nn.Linear(256, 102))\n",
    "model"
   ]
  },
  {
   "cell_type": "code",
   "execution_count": 49,
   "metadata": {},
   "outputs": [
    {
     "data": {
      "text/plain": [
       "1855526"
      ]
     },
     "execution_count": 49,
     "metadata": {},
     "output_type": "execute_result"
    }
   ],
   "source": [
    "num_params(model)"
   ]
  },
  {
   "cell_type": "code",
   "execution_count": 50,
   "metadata": {},
   "outputs": [],
   "source": [
    "learner = fai.Learner(data, model, metrics=fai.metrics.accuracy, wd=0.1)"
   ]
  },
  {
   "cell_type": "code",
   "execution_count": 51,
   "metadata": {},
   "outputs": [
    {
     "data": {
      "text/plain": [
       "29600"
      ]
     },
     "execution_count": 51,
     "metadata": {},
     "output_type": "execute_result"
    }
   ],
   "source": [
    "gc.collect()"
   ]
  },
  {
   "cell_type": "code",
   "execution_count": 52,
   "metadata": {},
   "outputs": [
    {
     "name": "stdout",
     "output_type": "stream",
     "text": [
      "======================================================================\n",
      "Layer (type)         Output Shape         Param #    Trainable \n",
      "======================================================================\n",
      "Conv2d               [80, 64, 96, 96]     9472       True      \n",
      "______________________________________________________________________\n",
      "ReLU                 [80, 64, 96, 96]     0          False     \n",
      "______________________________________________________________________\n",
      "MaxPool2d            [80, 64, 48, 48]     0          False     \n",
      "______________________________________________________________________\n",
      "Conv2d               [80, 128, 48, 48]    73856      True      \n",
      "______________________________________________________________________\n",
      "ReLU                 [80, 128, 48, 48]    0          False     \n",
      "______________________________________________________________________\n",
      "MaxPool2d            [80, 128, 24, 24]    0          False     \n",
      "______________________________________________________________________\n",
      "Conv2d               [80, 192, 24, 24]    221376     True      \n",
      "______________________________________________________________________\n",
      "ReLU                 [80, 192, 24, 24]    0          False     \n",
      "______________________________________________________________________\n",
      "MaxPool2d            [80, 192, 12, 12]    0          False     \n",
      "______________________________________________________________________\n",
      "Conv2d               [80, 256, 12, 12]    442624     True      \n",
      "______________________________________________________________________\n",
      "ReLU                 [80, 256, 12, 12]    0          False     \n",
      "______________________________________________________________________\n",
      "MaxPool2d            [80, 256, 6, 6]      0          False     \n",
      "______________________________________________________________________\n",
      "Conv2d               [80, 384, 6, 6]      885120     True      \n",
      "______________________________________________________________________\n",
      "Tanh                 [80, 384, 6, 6]      0          False     \n",
      "______________________________________________________________________\n",
      "AdaptiveAvgPool2d    [80, 384, 1, 1]      0          False     \n",
      "______________________________________________________________________\n",
      "AdaptiveMaxPool2d    [80, 384, 1, 1]      0          False     \n",
      "______________________________________________________________________\n",
      "Flatten              [80, 768]            0          False     \n",
      "______________________________________________________________________\n",
      "Linear               [80, 256]            196864     True      \n",
      "______________________________________________________________________\n",
      "LeakyReLU            [80, 256]            0          False     \n",
      "______________________________________________________________________\n",
      "Linear               [80, 102]            26214      True      \n",
      "______________________________________________________________________\n",
      "\n",
      "Total params:  1855526\n",
      "Total trainable params:  1855526\n",
      "Total non-trainable params:  0\n"
     ]
    }
   ],
   "source": [
    "learner.summary()"
   ]
  },
  {
   "cell_type": "code",
   "execution_count": 53,
   "metadata": {},
   "outputs": [
    {
     "name": "stdout",
     "output_type": "stream",
     "text": [
      "LR Finder is complete, type {learner_name}.recorder.plot() to see the graph.\n"
     ]
    },
    {
     "data": {
      "image/png": "[encoded data removed]",
      "text/plain": [
       "<Figure size 432x288 with 1 Axes>"
      ]
     },
     "metadata": {
      "needs_background": "light"
     },
     "output_type": "display_data"
    }
   ],
   "source": [
    "learner.lr_find(); learner.recorder.plot()"
   ]
  },
  {
   "cell_type": "code",
   "execution_count": 54,
   "metadata": {},
   "outputs": [
    {
     "data": {
      "text/html": [
       "Total time: 00:55 <p><table style='width:300px; margin-bottom:10px'>\n",
       "  <tr>\n",
       "    <th>epoch</th>\n",
       "    <th>train_loss</th>\n",
       "    <th>valid_loss</th>\n",
       "    <th>accuracy</th>\n",
       "  </tr>\n",
       "  <tr>\n",
       "    <th>1</th>\n",
       "    <th>4.292678</th>\n",
       "    <th>4.022941</th>\n",
       "    <th>0.055336</th>\n",
       "  </tr>\n",
       "  <tr>\n",
       "    <th>2</th>\n",
       "    <th>3.927068</th>\n",
       "    <th>3.705933</th>\n",
       "    <th>0.098814</th>\n",
       "  </tr>\n",
       "  <tr>\n",
       "    <th>3</th>\n",
       "    <th>3.580068</th>\n",
       "    <th>3.454181</th>\n",
       "    <th>0.126482</th>\n",
       "  </tr>\n",
       "</table>\n"
      ],
      "text/plain": [
       "<IPython.core.display.HTML object>"
      ]
     },
     "metadata": {},
     "output_type": "display_data"
    }
   ],
   "source": [
    "learner.fit_one_cycle(3,3e-3)"
   ]
  },
  {
   "cell_type": "code",
   "execution_count": 55,
   "metadata": {},
   "outputs": [
    {
     "name": "stdout",
     "output_type": "stream",
     "text": [
      "LR Finder is complete, type {learner_name}.recorder.plot() to see the graph.\n"
     ]
    },
    {
     "data": {
      "image/png": "[encoded data removed]",
      "text/plain": [
       "<Figure size 432x288 with 1 Axes>"
      ]
     },
     "metadata": {
      "needs_background": "light"
     },
     "output_type": "display_data"
    }
   ],
   "source": [
    "learner.lr_find(); learner.recorder.plot()"
   ]
  },
  {
   "cell_type": "code",
   "execution_count": 56,
   "metadata": {},
   "outputs": [
    {
     "data": {
      "text/html": [
       "Total time: 03:07 <p><table style='width:300px; margin-bottom:10px'>\n",
       "  <tr>\n",
       "    <th>epoch</th>\n",
       "    <th>train_loss</th>\n",
       "    <th>valid_loss</th>\n",
       "    <th>accuracy</th>\n",
       "  </tr>\n",
       "  <tr>\n",
       "    <th>1</th>\n",
       "    <th>3.418765</th>\n",
       "    <th>3.388164</th>\n",
       "    <th>0.138340</th>\n",
       "  </tr>\n",
       "  <tr>\n",
       "    <th>2</th>\n",
       "    <th>3.349176</th>\n",
       "    <th>3.256197</th>\n",
       "    <th>0.162055</th>\n",
       "  </tr>\n",
       "  <tr>\n",
       "    <th>3</th>\n",
       "    <th>3.191569</th>\n",
       "    <th>3.055073</th>\n",
       "    <th>0.183794</th>\n",
       "  </tr>\n",
       "  <tr>\n",
       "    <th>4</th>\n",
       "    <th>3.014544</th>\n",
       "    <th>2.819635</th>\n",
       "    <th>0.249012</th>\n",
       "  </tr>\n",
       "  <tr>\n",
       "    <th>5</th>\n",
       "    <th>2.795261</th>\n",
       "    <th>2.676949</th>\n",
       "    <th>0.306324</th>\n",
       "  </tr>\n",
       "  <tr>\n",
       "    <th>6</th>\n",
       "    <th>2.662586</th>\n",
       "    <th>2.591237</th>\n",
       "    <th>0.296443</th>\n",
       "  </tr>\n",
       "  <tr>\n",
       "    <th>7</th>\n",
       "    <th>2.509741</th>\n",
       "    <th>2.440289</th>\n",
       "    <th>0.332016</th>\n",
       "  </tr>\n",
       "  <tr>\n",
       "    <th>8</th>\n",
       "    <th>2.407405</th>\n",
       "    <th>2.383440</th>\n",
       "    <th>0.349802</th>\n",
       "  </tr>\n",
       "  <tr>\n",
       "    <th>9</th>\n",
       "    <th>2.322505</th>\n",
       "    <th>2.330228</th>\n",
       "    <th>0.363636</th>\n",
       "  </tr>\n",
       "  <tr>\n",
       "    <th>10</th>\n",
       "    <th>2.279102</th>\n",
       "    <th>2.324035</th>\n",
       "    <th>0.357708</th>\n",
       "  </tr>\n",
       "</table>\n"
      ],
      "text/plain": [
       "<IPython.core.display.HTML object>"
      ]
     },
     "metadata": {},
     "output_type": "display_data"
    }
   ],
   "source": [
    "learner.fit_one_cycle(10,7e-4)"
   ]
  },
  {
   "cell_type": "code",
   "execution_count": 57,
   "metadata": {},
   "outputs": [
    {
     "name": "stdout",
     "output_type": "stream",
     "text": [
      "LR Finder is complete, type {learner_name}.recorder.plot() to see the graph.\n"
     ]
    },
    {
     "data": {
      "image/png": "[encoded data removed]",
      "text/plain": [
       "<Figure size 432x288 with 1 Axes>"
      ]
     },
     "metadata": {
      "needs_background": "light"
     },
     "output_type": "display_data"
    }
   ],
   "source": [
    "learner.lr_find(); learner.recorder.plot()"
   ]
  },
  {
   "cell_type": "code",
   "execution_count": 58,
   "metadata": {},
   "outputs": [
    {
     "data": {
      "text/html": [
       "Total time: 03:07 <p><table style='width:300px; margin-bottom:10px'>\n",
       "  <tr>\n",
       "    <th>epoch</th>\n",
       "    <th>train_loss</th>\n",
       "    <th>valid_loss</th>\n",
       "    <th>accuracy</th>\n",
       "  </tr>\n",
       "  <tr>\n",
       "    <th>1</th>\n",
       "    <th>2.290727</th>\n",
       "    <th>2.320266</th>\n",
       "    <th>0.365613</th>\n",
       "  </tr>\n",
       "  <tr>\n",
       "    <th>2</th>\n",
       "    <th>2.297191</th>\n",
       "    <th>2.346243</th>\n",
       "    <th>0.357708</th>\n",
       "  </tr>\n",
       "  <tr>\n",
       "    <th>3</th>\n",
       "    <th>2.283441</th>\n",
       "    <th>2.331399</th>\n",
       "    <th>0.373518</th>\n",
       "  </tr>\n",
       "  <tr>\n",
       "    <th>4</th>\n",
       "    <th>2.260986</th>\n",
       "    <th>2.275946</th>\n",
       "    <th>0.373518</th>\n",
       "  </tr>\n",
       "  <tr>\n",
       "    <th>5</th>\n",
       "    <th>2.210703</th>\n",
       "    <th>2.261972</th>\n",
       "    <th>0.379447</th>\n",
       "  </tr>\n",
       "  <tr>\n",
       "    <th>6</th>\n",
       "    <th>2.171837</th>\n",
       "    <th>2.234368</th>\n",
       "    <th>0.389328</th>\n",
       "  </tr>\n",
       "  <tr>\n",
       "    <th>7</th>\n",
       "    <th>2.108675</th>\n",
       "    <th>2.195638</th>\n",
       "    <th>0.389328</th>\n",
       "  </tr>\n",
       "  <tr>\n",
       "    <th>8</th>\n",
       "    <th>2.080594</th>\n",
       "    <th>2.157893</th>\n",
       "    <th>0.399209</th>\n",
       "  </tr>\n",
       "  <tr>\n",
       "    <th>9</th>\n",
       "    <th>2.042387</th>\n",
       "    <th>2.161715</th>\n",
       "    <th>0.395257</th>\n",
       "  </tr>\n",
       "  <tr>\n",
       "    <th>10</th>\n",
       "    <th>2.027963</th>\n",
       "    <th>2.155445</th>\n",
       "    <th>0.401186</th>\n",
       "  </tr>\n",
       "</table>\n"
      ],
      "text/plain": [
       "<IPython.core.display.HTML object>"
      ]
     },
     "metadata": {},
     "output_type": "display_data"
    }
   ],
   "source": [
    "learner.fit_one_cycle(10, 2e-4)"
   ]
  },
  {
   "cell_type": "markdown",
   "metadata": {},
   "source": [
    "# Mejorando el model inicial\n",
    "Ya se ve que no vamos a llegar fácilmente a accuracy alta. Esto es por varias razones. Nos falta:\n",
    "\n",
    "- Transfer learning\n",
    "- BatchNorm\n",
    "- Resnet\n",
    "- Más capas\n",
    "\n",
    "Estas últimas tres vamos a mejorarlas ahora.\n"
   ]
  },
  {
   "cell_type": "markdown",
   "metadata": {},
   "source": [
    "## Batch norm\n",
    "\n",
    "Primero batchnorm. Podríamos simplemente tomar el modelo que hicimos hace rato y agregar batchnorms, pero se empieza a volver *feyecito*.\n",
    "\n",
    "**Nota**: A mi me gusta poner la activación (y BatchNorm) ANTES de las capas convolucionales. En realidad no importa para nada: finalmente van intercalados. Excepto que se me hace más fácil de programar. Les explicaré por qué en un momento."
   ]
  },
  {
   "cell_type": "code",
   "execution_count": 59,
   "metadata": {},
   "outputs": [],
   "source": [
    "def conv_block(ni, no, k=3, s=1, pad=\"same\", bn = True, activation = True, g = 1):\n",
    "    if pad == \"same\": \n",
    "        pad = k//2\n",
    "    \n",
    "    layers = []\n",
    "    \n",
    "    if bn:\n",
    "        layers += [nn.BatchNorm2d(ni)]\n",
    "       \n",
    "    if activation:\n",
    "        layers += [nn.LeakyReLU(inplace=True)] \n",
    "    \n",
    "    layers += [nn.Conv2d(ni, no, kernel_size=k, stride=s, padding=pad, bias = not bn, groups=g)]\n",
    "    \n",
    "    return nn.Sequential(*layers)"
   ]
  },
  {
   "cell_type": "markdown",
   "metadata": {},
   "source": [
    "`activation=False` al principio es para empezar directamente con batchnorm y no con activación. Los que ponen su activación después de la capa convolucional tendrían que poner activation=False al final"
   ]
  },
  {
   "cell_type": "code",
   "execution_count": 60,
   "metadata": {},
   "outputs": [
    {
     "data": {
      "text/plain": [
       "1855846"
      ]
     },
     "execution_count": 60,
     "metadata": {},
     "output_type": "execute_result"
    }
   ],
   "source": [
    "model = nn.Sequential(\n",
    "            conv_block(3, 64, k=7, s=2, activation=False, bn=False),\n",
    "            nn.MaxPool2d(2),\n",
    "            conv_block(64, 128),\n",
    "            nn.MaxPool2d(2),\n",
    "            conv_block(128, 192),\n",
    "            nn.MaxPool2d(2),\n",
    "            conv_block(192, 256),\n",
    "            nn.MaxPool2d(2),\n",
    "            conv_block(256, 384),\n",
    "            nn.Tanh(),\n",
    "            fai.AdaptiveConcatPool2d(),\n",
    "            Flatten(),\n",
    "            nn.Linear(2*384, 256),\n",
    "            nn.LeakyReLU(inplace=True),\n",
    "            nn.Linear(256, 102)\n",
    "        )\n",
    "num_params(model)"
   ]
  },
  {
   "cell_type": "code",
   "execution_count": 61,
   "metadata": {},
   "outputs": [],
   "source": [
    "learner = fai.Learner(data, model, metrics=fai.metrics.accuracy, wd=0.05)"
   ]
  },
  {
   "cell_type": "code",
   "execution_count": 62,
   "metadata": {},
   "outputs": [
    {
     "data": {
      "text/plain": [
       "21938"
      ]
     },
     "execution_count": 62,
     "metadata": {},
     "output_type": "execute_result"
    }
   ],
   "source": [
    "gc.collect() # pa no acabarnos la memoria. gc = garbage collector"
   ]
  },
  {
   "cell_type": "code",
   "execution_count": 63,
   "metadata": {},
   "outputs": [
    {
     "name": "stdout",
     "output_type": "stream",
     "text": [
      "======================================================================\n",
      "Layer (type)         Output Shape         Param #    Trainable \n",
      "======================================================================\n",
      "Conv2d               [80, 64, 96, 96]     9472       True      \n",
      "______________________________________________________________________\n",
      "MaxPool2d            [80, 64, 48, 48]     0          False     \n",
      "______________________________________________________________________\n",
      "BatchNorm2d          [80, 64, 48, 48]     128        True      \n",
      "______________________________________________________________________\n",
      "LeakyReLU            [80, 64, 48, 48]     0          False     \n",
      "______________________________________________________________________\n",
      "Conv2d               [80, 128, 48, 48]    73728      True      \n",
      "______________________________________________________________________\n",
      "MaxPool2d            [80, 128, 24, 24]    0          False     \n",
      "______________________________________________________________________\n",
      "BatchNorm2d          [80, 128, 24, 24]    256        True      \n",
      "______________________________________________________________________\n",
      "LeakyReLU            [80, 128, 24, 24]    0          False     \n",
      "______________________________________________________________________\n",
      "Conv2d               [80, 192, 24, 24]    221184     True      \n",
      "______________________________________________________________________\n",
      "MaxPool2d            [80, 192, 12, 12]    0          False     \n",
      "______________________________________________________________________\n",
      "BatchNorm2d          [80, 192, 12, 12]    384        True      \n",
      "______________________________________________________________________\n",
      "LeakyReLU            [80, 192, 12, 12]    0          False     \n",
      "______________________________________________________________________\n",
      "Conv2d               [80, 256, 12, 12]    442368     True      \n",
      "______________________________________________________________________\n",
      "MaxPool2d            [80, 256, 6, 6]      0          False     \n",
      "______________________________________________________________________\n",
      "BatchNorm2d          [80, 256, 6, 6]      512        True      \n",
      "______________________________________________________________________\n",
      "LeakyReLU            [80, 256, 6, 6]      0          False     \n",
      "______________________________________________________________________\n",
      "Conv2d               [80, 384, 6, 6]      884736     True      \n",
      "______________________________________________________________________\n",
      "Tanh                 [80, 384, 6, 6]      0          False     \n",
      "______________________________________________________________________\n",
      "AdaptiveAvgPool2d    [80, 384, 1, 1]      0          False     \n",
      "______________________________________________________________________\n",
      "AdaptiveMaxPool2d    [80, 384, 1, 1]      0          False     \n",
      "______________________________________________________________________\n",
      "Flatten              [80, 768]            0          False     \n",
      "______________________________________________________________________\n",
      "Linear               [80, 256]            196864     True      \n",
      "______________________________________________________________________\n",
      "LeakyReLU            [80, 256]            0          False     \n",
      "______________________________________________________________________\n",
      "Linear               [80, 102]            26214      True      \n",
      "______________________________________________________________________\n",
      "\n",
      "Total params:  1855846\n",
      "Total trainable params:  1855846\n",
      "Total non-trainable params:  0\n"
     ]
    }
   ],
   "source": [
    "learner.summary()"
   ]
  },
  {
   "cell_type": "code",
   "execution_count": 64,
   "metadata": {},
   "outputs": [
    {
     "name": "stdout",
     "output_type": "stream",
     "text": [
      "LR Finder is complete, type {learner_name}.recorder.plot() to see the graph.\n"
     ]
    },
    {
     "data": {
      "image/png": "[encoded data removed]",
      "text/plain": [
       "<Figure size 432x288 with 1 Axes>"
      ]
     },
     "metadata": {
      "needs_background": "light"
     },
     "output_type": "display_data"
    }
   ],
   "source": [
    "learner.lr_find(); learner.recorder.plot()"
   ]
  },
  {
   "cell_type": "code",
   "execution_count": 65,
   "metadata": {},
   "outputs": [
    {
     "data": {
      "text/html": [
       "Total time: 00:55 <p><table style='width:300px; margin-bottom:10px'>\n",
       "  <tr>\n",
       "    <th>epoch</th>\n",
       "    <th>train_loss</th>\n",
       "    <th>valid_loss</th>\n",
       "    <th>accuracy</th>\n",
       "  </tr>\n",
       "  <tr>\n",
       "    <th>1</th>\n",
       "    <th>3.780115</th>\n",
       "    <th>5.993823</th>\n",
       "    <th>0.027668</th>\n",
       "  </tr>\n",
       "  <tr>\n",
       "    <th>2</th>\n",
       "    <th>3.265590</th>\n",
       "    <th>3.222798</th>\n",
       "    <th>0.150198</th>\n",
       "  </tr>\n",
       "  <tr>\n",
       "    <th>3</th>\n",
       "    <th>2.817585</th>\n",
       "    <th>2.641519</th>\n",
       "    <th>0.290514</th>\n",
       "  </tr>\n",
       "</table>\n"
      ],
      "text/plain": [
       "<IPython.core.display.HTML object>"
      ]
     },
     "metadata": {},
     "output_type": "display_data"
    }
   ],
   "source": [
    "learner.fit_one_cycle(3,5e-3)"
   ]
  },
  {
   "cell_type": "code",
   "execution_count": 66,
   "metadata": {},
   "outputs": [
    {
     "name": "stdout",
     "output_type": "stream",
     "text": [
      "LR Finder is complete, type {learner_name}.recorder.plot() to see the graph.\n"
     ]
    },
    {
     "data": {
      "image/png": "[encoded data removed]",
      "text/plain": [
       "<Figure size 432x288 with 1 Axes>"
      ]
     },
     "metadata": {
      "needs_background": "light"
     },
     "output_type": "display_data"
    }
   ],
   "source": [
    "learner.lr_find(); learner.recorder.plot()"
   ]
  },
  {
   "cell_type": "code",
   "execution_count": 67,
   "metadata": {},
   "outputs": [
    {
     "data": {
      "text/html": [
       "Total time: 03:08 <p><table style='width:300px; margin-bottom:10px'>\n",
       "  <tr>\n",
       "    <th>epoch</th>\n",
       "    <th>train_loss</th>\n",
       "    <th>valid_loss</th>\n",
       "    <th>accuracy</th>\n",
       "  </tr>\n",
       "  <tr>\n",
       "    <th>1</th>\n",
       "    <th>2.580996</th>\n",
       "    <th>2.583441</th>\n",
       "    <th>0.286561</th>\n",
       "  </tr>\n",
       "  <tr>\n",
       "    <th>2</th>\n",
       "    <th>2.549238</th>\n",
       "    <th>2.584444</th>\n",
       "    <th>0.282609</th>\n",
       "  </tr>\n",
       "  <tr>\n",
       "    <th>3</th>\n",
       "    <th>2.454478</th>\n",
       "    <th>2.613717</th>\n",
       "    <th>0.314229</th>\n",
       "  </tr>\n",
       "  <tr>\n",
       "    <th>4</th>\n",
       "    <th>2.337317</th>\n",
       "    <th>3.069176</th>\n",
       "    <th>0.229249</th>\n",
       "  </tr>\n",
       "  <tr>\n",
       "    <th>5</th>\n",
       "    <th>2.182014</th>\n",
       "    <th>2.148923</th>\n",
       "    <th>0.411067</th>\n",
       "  </tr>\n",
       "  <tr>\n",
       "    <th>6</th>\n",
       "    <th>2.045830</th>\n",
       "    <th>1.965226</th>\n",
       "    <th>0.448617</th>\n",
       "  </tr>\n",
       "  <tr>\n",
       "    <th>7</th>\n",
       "    <th>1.922450</th>\n",
       "    <th>1.895491</th>\n",
       "    <th>0.468379</th>\n",
       "  </tr>\n",
       "  <tr>\n",
       "    <th>8</th>\n",
       "    <th>1.795557</th>\n",
       "    <th>1.765936</th>\n",
       "    <th>0.505929</th>\n",
       "  </tr>\n",
       "  <tr>\n",
       "    <th>9</th>\n",
       "    <th>1.745479</th>\n",
       "    <th>1.708989</th>\n",
       "    <th>0.511858</th>\n",
       "  </tr>\n",
       "  <tr>\n",
       "    <th>10</th>\n",
       "    <th>1.685590</th>\n",
       "    <th>1.709221</th>\n",
       "    <th>0.525692</th>\n",
       "  </tr>\n",
       "</table>\n"
      ],
      "text/plain": [
       "<IPython.core.display.HTML object>"
      ]
     },
     "metadata": {},
     "output_type": "display_data"
    }
   ],
   "source": [
    "learner.fit_one_cycle(10,1e-3)"
   ]
  },
  {
   "cell_type": "code",
   "execution_count": 68,
   "metadata": {},
   "outputs": [
    {
     "name": "stdout",
     "output_type": "stream",
     "text": [
      "LR Finder is complete, type {learner_name}.recorder.plot() to see the graph.\n"
     ]
    },
    {
     "data": {
      "image/png": "[encoded data removed]",
      "text/plain": [
       "<Figure size 432x288 with 1 Axes>"
      ]
     },
     "metadata": {
      "needs_background": "light"
     },
     "output_type": "display_data"
    }
   ],
   "source": [
    "learner.lr_find(); learner.recorder.plot()"
   ]
  },
  {
   "cell_type": "code",
   "execution_count": 69,
   "metadata": {},
   "outputs": [
    {
     "data": {
      "text/html": [
       "Total time: 03:06 <p><table style='width:300px; margin-bottom:10px'>\n",
       "  <tr>\n",
       "    <th>epoch</th>\n",
       "    <th>train_loss</th>\n",
       "    <th>valid_loss</th>\n",
       "    <th>accuracy</th>\n",
       "  </tr>\n",
       "  <tr>\n",
       "    <th>1</th>\n",
       "    <th>1.654666</th>\n",
       "    <th>1.707581</th>\n",
       "    <th>0.533597</th>\n",
       "  </tr>\n",
       "  <tr>\n",
       "    <th>2</th>\n",
       "    <th>1.648978</th>\n",
       "    <th>1.700261</th>\n",
       "    <th>0.523715</th>\n",
       "  </tr>\n",
       "  <tr>\n",
       "    <th>3</th>\n",
       "    <th>1.659799</th>\n",
       "    <th>1.695640</th>\n",
       "    <th>0.515810</th>\n",
       "  </tr>\n",
       "  <tr>\n",
       "    <th>4</th>\n",
       "    <th>1.660407</th>\n",
       "    <th>1.697247</th>\n",
       "    <th>0.523715</th>\n",
       "  </tr>\n",
       "  <tr>\n",
       "    <th>5</th>\n",
       "    <th>1.672998</th>\n",
       "    <th>1.690084</th>\n",
       "    <th>0.521739</th>\n",
       "  </tr>\n",
       "  <tr>\n",
       "    <th>6</th>\n",
       "    <th>1.645295</th>\n",
       "    <th>1.697702</th>\n",
       "    <th>0.519763</th>\n",
       "  </tr>\n",
       "  <tr>\n",
       "    <th>7</th>\n",
       "    <th>1.657007</th>\n",
       "    <th>1.692657</th>\n",
       "    <th>0.517787</th>\n",
       "  </tr>\n",
       "  <tr>\n",
       "    <th>8</th>\n",
       "    <th>1.641097</th>\n",
       "    <th>1.695346</th>\n",
       "    <th>0.519763</th>\n",
       "  </tr>\n",
       "  <tr>\n",
       "    <th>9</th>\n",
       "    <th>1.637403</th>\n",
       "    <th>1.693547</th>\n",
       "    <th>0.519763</th>\n",
       "  </tr>\n",
       "  <tr>\n",
       "    <th>10</th>\n",
       "    <th>1.652981</th>\n",
       "    <th>1.714459</th>\n",
       "    <th>0.521739</th>\n",
       "  </tr>\n",
       "</table>\n"
      ],
      "text/plain": [
       "<IPython.core.display.HTML object>"
      ]
     },
     "metadata": {},
     "output_type": "display_data"
    }
   ],
   "source": [
    "learner.fit_one_cycle(10,1e-5)"
   ]
  },
  {
   "cell_type": "markdown",
   "metadata": {},
   "source": [
    "No está tan mal, considerando que tenemos 1/6 parte de los parámetros de resnet18:"
   ]
  },
  {
   "cell_type": "code",
   "execution_count": 70,
   "metadata": {},
   "outputs": [
    {
     "name": "stdout",
     "output_type": "stream",
     "text": [
      "11689512\n"
     ]
    },
    {
     "data": {
      "text/plain": [
       "6.29875108171691"
      ]
     },
     "execution_count": 70,
     "metadata": {},
     "output_type": "execute_result"
    }
   ],
   "source": [
    "print(num_params(fv.models.resnet18()))\n",
    "num_params(fv.models.resnet18())/num_params(model)"
   ]
  },
  {
   "cell_type": "markdown",
   "metadata": {},
   "source": [
    "## Resnets\n",
    "\n",
    "¿Podemos hacerlo mejor? Sí, con los llamados \"resblocks\" (skip connections). Eso significa que guardas el resultado de una capa y la sumas un par de capas después. Esto permite entrenar redes mucho más profundas!"
   ]
  },
  {
   "cell_type": "code",
   "execution_count": 71,
   "metadata": {},
   "outputs": [],
   "source": [
    "class ResBlock(nn.Module):\n",
    "    def __init__(self, nf):\n",
    "        super().__init__()\n",
    "        \n",
    "        layers = [conv_block(nf, nf, k=3),\n",
    "                  conv_block(nf, nf)]\n",
    "        self.residual = nn.Sequential(*layers)\n",
    "        \n",
    "    def forward(self, x):\n",
    "        return x + self.residual(x)"
   ]
  },
  {
   "cell_type": "code",
   "execution_count": 72,
   "metadata": {},
   "outputs": [],
   "source": [
    "class Downscale(nn.Module):\n",
    "    def __init__(self, ni, no):\n",
    "        super().__init__()\n",
    "        \n",
    "        self.ap = nn.AvgPool2d(2)\n",
    "        self.mp = nn.MaxPool2d(2)\n",
    "        self.conv = conv_block(2*ni,no,ks=1,s=1,pad=0)\n",
    "        \n",
    "    def forward(self, x):\n",
    "        return self.conv(torch.cat((self.ap(x), self.mp(x)), dim=1))"
   ]
  },
  {
   "cell_type": "code",
   "execution_count": 73,
   "metadata": {},
   "outputs": [],
   "source": [
    "def resnet_body(filters):\n",
    "    layers = [conv_block(3, filters[0], k=7, s=2, activation=False)]\n",
    "    \n",
    "    for ni, no in zip(filters[:-1], filters[1:]):\n",
    "        layers += [nn.MaxPool2d(2), ResBlock(ni), conv_block(ni,no,g=1+(no>150))]\n",
    "        \n",
    "    return layers"
   ]
  },
  {
   "cell_type": "code",
   "execution_count": 74,
   "metadata": {},
   "outputs": [],
   "source": [
    "layers = resnet_body([64,96,128,192,256])\n",
    "layers +=[nn.Tanh(),\n",
    "          fai.AdaptiveConcatPool2d(),\n",
    "          Flatten(),\n",
    "          nn.Dropout(0.5),\n",
    "          nn.Linear(512, 256),\n",
    "          nn.Dropout(0.2),\n",
    "          nn.LeakyReLU(inplace=True),\n",
    "          nn.Linear(256, 102)]\n",
    "model = nn.Sequential(*layers)"
   ]
  },
  {
   "cell_type": "code",
   "execution_count": 75,
   "metadata": {},
   "outputs": [
    {
     "data": {
      "text/plain": [
       "1865580"
      ]
     },
     "execution_count": 75,
     "metadata": {},
     "output_type": "execute_result"
    }
   ],
   "source": [
    "num_params(model)"
   ]
  },
  {
   "cell_type": "code",
   "execution_count": 76,
   "metadata": {},
   "outputs": [],
   "source": [
    "learner = fai.Learner(data, model, wd=0.1, metrics=fai.metrics.accuracy)"
   ]
  },
  {
   "cell_type": "code",
   "execution_count": 77,
   "metadata": {},
   "outputs": [
    {
     "data": {
      "text/plain": [
       "22840"
      ]
     },
     "execution_count": 77,
     "metadata": {},
     "output_type": "execute_result"
    }
   ],
   "source": [
    "gc.collect()"
   ]
  },
  {
   "cell_type": "code",
   "execution_count": 78,
   "metadata": {},
   "outputs": [
    {
     "name": "stdout",
     "output_type": "stream",
     "text": [
      "======================================================================\n",
      "Layer (type)         Output Shape         Param #    Trainable \n",
      "======================================================================\n",
      "BatchNorm2d          [80, 3, 192, 192]    6          True      \n",
      "______________________________________________________________________\n",
      "Conv2d               [80, 64, 96, 96]     9408       True      \n",
      "______________________________________________________________________\n",
      "MaxPool2d            [80, 64, 48, 48]     0          False     \n",
      "______________________________________________________________________\n",
      "BatchNorm2d          [80, 64, 48, 48]     128        True      \n",
      "______________________________________________________________________\n",
      "LeakyReLU            [80, 64, 48, 48]     0          False     \n",
      "______________________________________________________________________\n",
      "Conv2d               [80, 64, 48, 48]     36864      True      \n",
      "______________________________________________________________________\n",
      "BatchNorm2d          [80, 64, 48, 48]     128        True      \n",
      "______________________________________________________________________\n",
      "LeakyReLU            [80, 64, 48, 48]     0          False     \n",
      "______________________________________________________________________\n",
      "Conv2d               [80, 64, 48, 48]     36864      True      \n",
      "______________________________________________________________________\n",
      "BatchNorm2d          [80, 64, 48, 48]     128        True      \n",
      "______________________________________________________________________\n",
      "LeakyReLU            [80, 64, 48, 48]     0          False     \n",
      "______________________________________________________________________\n",
      "Conv2d               [80, 96, 48, 48]     55296      True      \n",
      "______________________________________________________________________\n",
      "MaxPool2d            [80, 96, 24, 24]     0          False     \n",
      "______________________________________________________________________\n",
      "BatchNorm2d          [80, 96, 24, 24]     192        True      \n",
      "______________________________________________________________________\n",
      "LeakyReLU            [80, 96, 24, 24]     0          False     \n",
      "______________________________________________________________________\n",
      "Conv2d               [80, 96, 24, 24]     82944      True      \n",
      "______________________________________________________________________\n",
      "BatchNorm2d          [80, 96, 24, 24]     192        True      \n",
      "______________________________________________________________________\n",
      "LeakyReLU            [80, 96, 24, 24]     0          False     \n",
      "______________________________________________________________________\n",
      "Conv2d               [80, 96, 24, 24]     82944      True      \n",
      "______________________________________________________________________\n",
      "BatchNorm2d          [80, 96, 24, 24]     192        True      \n",
      "______________________________________________________________________\n",
      "LeakyReLU            [80, 96, 24, 24]     0          False     \n",
      "______________________________________________________________________\n",
      "Conv2d               [80, 128, 24, 24]    110592     True      \n",
      "______________________________________________________________________\n",
      "MaxPool2d            [80, 128, 12, 12]    0          False     \n",
      "______________________________________________________________________\n",
      "BatchNorm2d          [80, 128, 12, 12]    256        True      \n",
      "______________________________________________________________________\n",
      "LeakyReLU            [80, 128, 12, 12]    0          False     \n",
      "______________________________________________________________________\n",
      "Conv2d               [80, 128, 12, 12]    147456     True      \n",
      "______________________________________________________________________\n",
      "BatchNorm2d          [80, 128, 12, 12]    256        True      \n",
      "______________________________________________________________________\n",
      "LeakyReLU            [80, 128, 12, 12]    0          False     \n",
      "______________________________________________________________________\n",
      "Conv2d               [80, 128, 12, 12]    147456     True      \n",
      "______________________________________________________________________\n",
      "BatchNorm2d          [80, 128, 12, 12]    256        True      \n",
      "______________________________________________________________________\n",
      "LeakyReLU            [80, 128, 12, 12]    0          False     \n",
      "______________________________________________________________________\n",
      "Conv2d               [80, 192, 12, 12]    110592     True      \n",
      "______________________________________________________________________\n",
      "MaxPool2d            [80, 192, 6, 6]      0          False     \n",
      "______________________________________________________________________\n",
      "BatchNorm2d          [80, 192, 6, 6]      384        True      \n",
      "______________________________________________________________________\n",
      "LeakyReLU            [80, 192, 6, 6]      0          False     \n",
      "______________________________________________________________________\n",
      "Conv2d               [80, 192, 6, 6]      331776     True      \n",
      "______________________________________________________________________\n",
      "BatchNorm2d          [80, 192, 6, 6]      384        True      \n",
      "______________________________________________________________________\n",
      "LeakyReLU            [80, 192, 6, 6]      0          False     \n",
      "______________________________________________________________________\n",
      "Conv2d               [80, 192, 6, 6]      331776     True      \n",
      "______________________________________________________________________\n",
      "BatchNorm2d          [80, 192, 6, 6]      384        True      \n",
      "______________________________________________________________________\n",
      "LeakyReLU            [80, 192, 6, 6]      0          False     \n",
      "______________________________________________________________________\n",
      "Conv2d               [80, 256, 6, 6]      221184     True      \n",
      "______________________________________________________________________\n",
      "Tanh                 [80, 256, 6, 6]      0          False     \n",
      "______________________________________________________________________\n",
      "AdaptiveAvgPool2d    [80, 256, 1, 1]      0          False     \n",
      "______________________________________________________________________\n",
      "AdaptiveMaxPool2d    [80, 256, 1, 1]      0          False     \n",
      "______________________________________________________________________\n",
      "Flatten              [80, 512]            0          False     \n",
      "______________________________________________________________________\n",
      "Dropout              [80, 512]            0          False     \n",
      "______________________________________________________________________\n",
      "Linear               [80, 256]            131328     True      \n",
      "______________________________________________________________________\n",
      "Dropout              [80, 256]            0          False     \n",
      "______________________________________________________________________\n",
      "LeakyReLU            [80, 256]            0          False     \n",
      "______________________________________________________________________\n",
      "Linear               [80, 102]            26214      True      \n",
      "______________________________________________________________________\n",
      "\n",
      "Total params:  1865580\n",
      "Total trainable params:  1865580\n",
      "Total non-trainable params:  0\n"
     ]
    }
   ],
   "source": [
    "learner.summary()"
   ]
  },
  {
   "cell_type": "code",
   "execution_count": 79,
   "metadata": {},
   "outputs": [
    {
     "name": "stdout",
     "output_type": "stream",
     "text": [
      "LR Finder is complete, type {learner_name}.recorder.plot() to see the graph.\n"
     ]
    },
    {
     "data": {
      "image/png": "[encoded data removed]",
      "text/plain": [
       "<Figure size 432x288 with 1 Axes>"
      ]
     },
     "metadata": {
      "needs_background": "light"
     },
     "output_type": "display_data"
    }
   ],
   "source": [
    "learner.lr_find(); learner.recorder.plot()"
   ]
  },
  {
   "cell_type": "code",
   "execution_count": 80,
   "metadata": {},
   "outputs": [
    {
     "data": {
      "text/html": [
       "Total time: 01:36 <p><table style='width:300px; margin-bottom:10px'>\n",
       "  <tr>\n",
       "    <th>epoch</th>\n",
       "    <th>train_loss</th>\n",
       "    <th>valid_loss</th>\n",
       "    <th>accuracy</th>\n",
       "  </tr>\n",
       "  <tr>\n",
       "    <th>1</th>\n",
       "    <th>4.164018</th>\n",
       "    <th>3.958068</th>\n",
       "    <th>0.059289</th>\n",
       "  </tr>\n",
       "  <tr>\n",
       "    <th>2</th>\n",
       "    <th>3.733698</th>\n",
       "    <th>3.506348</th>\n",
       "    <th>0.140316</th>\n",
       "  </tr>\n",
       "  <tr>\n",
       "    <th>3</th>\n",
       "    <th>3.388423</th>\n",
       "    <th>3.128833</th>\n",
       "    <th>0.191700</th>\n",
       "  </tr>\n",
       "  <tr>\n",
       "    <th>4</th>\n",
       "    <th>3.050629</th>\n",
       "    <th>2.688813</th>\n",
       "    <th>0.260870</th>\n",
       "  </tr>\n",
       "  <tr>\n",
       "    <th>5</th>\n",
       "    <th>2.806959</th>\n",
       "    <th>2.521135</th>\n",
       "    <th>0.292490</th>\n",
       "  </tr>\n",
       "</table>\n"
      ],
      "text/plain": [
       "<IPython.core.display.HTML object>"
      ]
     },
     "metadata": {},
     "output_type": "display_data"
    }
   ],
   "source": [
    "learner.fit_one_cycle(5,8e-3)"
   ]
  },
  {
   "cell_type": "code",
   "execution_count": 81,
   "metadata": {},
   "outputs": [
    {
     "name": "stdout",
     "output_type": "stream",
     "text": [
      "LR Finder is complete, type {learner_name}.recorder.plot() to see the graph.\n"
     ]
    },
    {
     "data": {
      "image/png": "[encoded data removed]",
      "text/plain": [
       "<Figure size 432x288 with 1 Axes>"
      ]
     },
     "metadata": {
      "needs_background": "light"
     },
     "output_type": "display_data"
    }
   ],
   "source": [
    "learner.lr_find(); learner.recorder.plot()"
   ]
  },
  {
   "cell_type": "code",
   "execution_count": 82,
   "metadata": {},
   "outputs": [
    {
     "data": {
      "text/html": [
       "Total time: 03:13 <p><table style='width:300px; margin-bottom:10px'>\n",
       "  <tr>\n",
       "    <th>epoch</th>\n",
       "    <th>train_loss</th>\n",
       "    <th>valid_loss</th>\n",
       "    <th>accuracy</th>\n",
       "  </tr>\n",
       "  <tr>\n",
       "    <th>1</th>\n",
       "    <th>2.691936</th>\n",
       "    <th>2.482609</th>\n",
       "    <th>0.314229</th>\n",
       "  </tr>\n",
       "  <tr>\n",
       "    <th>2</th>\n",
       "    <th>2.675499</th>\n",
       "    <th>2.465589</th>\n",
       "    <th>0.298419</th>\n",
       "  </tr>\n",
       "  <tr>\n",
       "    <th>3</th>\n",
       "    <th>2.630057</th>\n",
       "    <th>2.433689</th>\n",
       "    <th>0.308300</th>\n",
       "  </tr>\n",
       "  <tr>\n",
       "    <th>4</th>\n",
       "    <th>2.540399</th>\n",
       "    <th>2.314593</th>\n",
       "    <th>0.332016</th>\n",
       "  </tr>\n",
       "  <tr>\n",
       "    <th>5</th>\n",
       "    <th>2.442198</th>\n",
       "    <th>2.188456</th>\n",
       "    <th>0.379447</th>\n",
       "  </tr>\n",
       "  <tr>\n",
       "    <th>6</th>\n",
       "    <th>2.354265</th>\n",
       "    <th>2.114517</th>\n",
       "    <th>0.375494</th>\n",
       "  </tr>\n",
       "  <tr>\n",
       "    <th>7</th>\n",
       "    <th>2.240711</th>\n",
       "    <th>2.018457</th>\n",
       "    <th>0.405138</th>\n",
       "  </tr>\n",
       "  <tr>\n",
       "    <th>8</th>\n",
       "    <th>2.173394</th>\n",
       "    <th>1.916623</th>\n",
       "    <th>0.434783</th>\n",
       "  </tr>\n",
       "  <tr>\n",
       "    <th>9</th>\n",
       "    <th>2.094759</th>\n",
       "    <th>1.870345</th>\n",
       "    <th>0.440711</th>\n",
       "  </tr>\n",
       "  <tr>\n",
       "    <th>10</th>\n",
       "    <th>2.077812</th>\n",
       "    <th>1.864883</th>\n",
       "    <th>0.450593</th>\n",
       "  </tr>\n",
       "</table>\n"
      ],
      "text/plain": [
       "<IPython.core.display.HTML object>"
      ]
     },
     "metadata": {},
     "output_type": "display_data"
    }
   ],
   "source": [
    "learner.fit_one_cycle(10, 1e-3)"
   ]
  },
  {
   "cell_type": "code",
   "execution_count": 83,
   "metadata": {},
   "outputs": [
    {
     "name": "stdout",
     "output_type": "stream",
     "text": [
      "LR Finder is complete, type {learner_name}.recorder.plot() to see the graph.\n"
     ]
    },
    {
     "data": {
      "image/png": "[encoded data removed]",
      "text/plain": [
       "<Figure size 432x288 with 1 Axes>"
      ]
     },
     "metadata": {
      "needs_background": "light"
     },
     "output_type": "display_data"
    }
   ],
   "source": [
    "learner.lr_find(); learner.recorder.plot()"
   ]
  },
  {
   "cell_type": "code",
   "execution_count": 84,
   "metadata": {},
   "outputs": [
    {
     "data": {
      "text/html": [
       "Total time: 03:13 <p><table style='width:300px; margin-bottom:10px'>\n",
       "  <tr>\n",
       "    <th>epoch</th>\n",
       "    <th>train_loss</th>\n",
       "    <th>valid_loss</th>\n",
       "    <th>accuracy</th>\n",
       "  </tr>\n",
       "  <tr>\n",
       "    <th>1</th>\n",
       "    <th>2.098429</th>\n",
       "    <th>1.957814</th>\n",
       "    <th>0.415020</th>\n",
       "  </tr>\n",
       "  <tr>\n",
       "    <th>2</th>\n",
       "    <th>2.182820</th>\n",
       "    <th>2.104567</th>\n",
       "    <th>0.399209</th>\n",
       "  </tr>\n",
       "  <tr>\n",
       "    <th>3</th>\n",
       "    <th>2.194572</th>\n",
       "    <th>2.083123</th>\n",
       "    <th>0.428854</th>\n",
       "  </tr>\n",
       "  <tr>\n",
       "    <th>4</th>\n",
       "    <th>2.176854</th>\n",
       "    <th>1.912506</th>\n",
       "    <th>0.472332</th>\n",
       "  </tr>\n",
       "  <tr>\n",
       "    <th>5</th>\n",
       "    <th>2.065768</th>\n",
       "    <th>1.821676</th>\n",
       "    <th>0.470356</th>\n",
       "  </tr>\n",
       "  <tr>\n",
       "    <th>6</th>\n",
       "    <th>1.926164</th>\n",
       "    <th>1.679801</th>\n",
       "    <th>0.507905</th>\n",
       "  </tr>\n",
       "  <tr>\n",
       "    <th>7</th>\n",
       "    <th>1.818578</th>\n",
       "    <th>1.670094</th>\n",
       "    <th>0.511858</th>\n",
       "  </tr>\n",
       "  <tr>\n",
       "    <th>8</th>\n",
       "    <th>1.692114</th>\n",
       "    <th>1.502007</th>\n",
       "    <th>0.555336</th>\n",
       "  </tr>\n",
       "  <tr>\n",
       "    <th>9</th>\n",
       "    <th>1.571648</th>\n",
       "    <th>1.431041</th>\n",
       "    <th>0.581028</th>\n",
       "  </tr>\n",
       "  <tr>\n",
       "    <th>10</th>\n",
       "    <th>1.523784</th>\n",
       "    <th>1.428006</th>\n",
       "    <th>0.565217</th>\n",
       "  </tr>\n",
       "</table>\n"
      ],
      "text/plain": [
       "<IPython.core.display.HTML object>"
      ]
     },
     "metadata": {},
     "output_type": "display_data"
    }
   ],
   "source": [
    "learner.fit_one_cycle(10, 2e-3)"
   ]
  },
  {
   "cell_type": "code",
   "execution_count": 87,
   "metadata": {},
   "outputs": [
    {
     "name": "stdout",
     "output_type": "stream",
     "text": [
      "LR Finder is complete, type {learner_name}.recorder.plot() to see the graph.\n"
     ]
    },
    {
     "data": {
      "image/png": "[encoded data removed]",
      "text/plain": [
       "<Figure size 432x288 with 1 Axes>"
      ]
     },
     "metadata": {
      "needs_background": "light"
     },
     "output_type": "display_data"
    }
   ],
   "source": [
    "learner.lr_find(); learner.recorder.plot()"
   ]
  },
  {
   "cell_type": "code",
   "execution_count": 88,
   "metadata": {},
   "outputs": [
    {
     "data": {
      "text/html": [
       "Total time: 02:35 <p><table style='width:300px; margin-bottom:10px'>\n",
       "  <tr>\n",
       "    <th>epoch</th>\n",
       "    <th>train_loss</th>\n",
       "    <th>valid_loss</th>\n",
       "    <th>accuracy</th>\n",
       "  </tr>\n",
       "  <tr>\n",
       "    <th>1</th>\n",
       "    <th>1.473440</th>\n",
       "    <th>1.407732</th>\n",
       "    <th>0.577075</th>\n",
       "  </tr>\n",
       "  <tr>\n",
       "    <th>2</th>\n",
       "    <th>1.548378</th>\n",
       "    <th>1.549173</th>\n",
       "    <th>0.529644</th>\n",
       "  </tr>\n",
       "  <tr>\n",
       "    <th>3</th>\n",
       "    <th>1.588438</th>\n",
       "    <th>1.533459</th>\n",
       "    <th>0.523715</th>\n",
       "  </tr>\n",
       "  <tr>\n",
       "    <th>4</th>\n",
       "    <th>1.520926</th>\n",
       "    <th>1.418857</th>\n",
       "    <th>0.573123</th>\n",
       "  </tr>\n",
       "  <tr>\n",
       "    <th>5</th>\n",
       "    <th>1.450409</th>\n",
       "    <th>1.389262</th>\n",
       "    <th>0.592885</th>\n",
       "  </tr>\n",
       "  <tr>\n",
       "    <th>6</th>\n",
       "    <th>1.356363</th>\n",
       "    <th>1.263699</th>\n",
       "    <th>0.622530</th>\n",
       "  </tr>\n",
       "  <tr>\n",
       "    <th>7</th>\n",
       "    <th>1.299265</th>\n",
       "    <th>1.227592</th>\n",
       "    <th>0.626482</th>\n",
       "  </tr>\n",
       "  <tr>\n",
       "    <th>8</th>\n",
       "    <th>1.230205</th>\n",
       "    <th>1.219863</th>\n",
       "    <th>0.632411</th>\n",
       "  </tr>\n",
       "</table>\n"
      ],
      "text/plain": [
       "<IPython.core.display.HTML object>"
      ]
     },
     "metadata": {},
     "output_type": "display_data"
    }
   ],
   "source": [
    "learner.fit_one_cycle(8, 1e-3)"
   ]
  },
  {
   "cell_type": "code",
   "execution_count": 89,
   "metadata": {},
   "outputs": [],
   "source": [
    "learner.save('manual-resnet63')"
   ]
  },
  {
   "cell_type": "code",
   "execution_count": 90,
   "metadata": {},
   "outputs": [
    {
     "data": {
      "text/html": [
       "Total time: 02:36 <p><table style='width:300px; margin-bottom:10px'>\n",
       "  <tr>\n",
       "    <th>epoch</th>\n",
       "    <th>train_loss</th>\n",
       "    <th>valid_loss</th>\n",
       "    <th>accuracy</th>\n",
       "  </tr>\n",
       "  <tr>\n",
       "    <th>1</th>\n",
       "    <th>1.259804</th>\n",
       "    <th>1.219855</th>\n",
       "    <th>0.642292</th>\n",
       "  </tr>\n",
       "  <tr>\n",
       "    <th>2</th>\n",
       "    <th>1.297988</th>\n",
       "    <th>1.303027</th>\n",
       "    <th>0.614625</th>\n",
       "  </tr>\n",
       "  <tr>\n",
       "    <th>3</th>\n",
       "    <th>1.335745</th>\n",
       "    <th>1.368779</th>\n",
       "    <th>0.598814</th>\n",
       "  </tr>\n",
       "  <tr>\n",
       "    <th>4</th>\n",
       "    <th>1.294317</th>\n",
       "    <th>1.395724</th>\n",
       "    <th>0.606719</th>\n",
       "  </tr>\n",
       "  <tr>\n",
       "    <th>5</th>\n",
       "    <th>1.226694</th>\n",
       "    <th>1.207749</th>\n",
       "    <th>0.658103</th>\n",
       "  </tr>\n",
       "  <tr>\n",
       "    <th>6</th>\n",
       "    <th>1.183890</th>\n",
       "    <th>1.123853</th>\n",
       "    <th>0.669960</th>\n",
       "  </tr>\n",
       "  <tr>\n",
       "    <th>7</th>\n",
       "    <th>1.109508</th>\n",
       "    <th>1.112245</th>\n",
       "    <th>0.673913</th>\n",
       "  </tr>\n",
       "  <tr>\n",
       "    <th>8</th>\n",
       "    <th>1.069379</th>\n",
       "    <th>1.091426</th>\n",
       "    <th>0.681818</th>\n",
       "  </tr>\n",
       "</table>\n"
      ],
      "text/plain": [
       "<IPython.core.display.HTML object>"
      ]
     },
     "metadata": {},
     "output_type": "display_data"
    }
   ],
   "source": [
    "learner.fit_one_cycle(8,8e-4)"
   ]
  },
  {
   "cell_type": "code",
   "execution_count": 91,
   "metadata": {},
   "outputs": [],
   "source": [
    "learner.save('manual-resnet68')"
   ]
  },
  {
   "cell_type": "code",
   "execution_count": null,
   "metadata": {},
   "outputs": [],
   "source": []
  }
 ],
 "metadata": {
  "kernelspec": {
   "display_name": "Python 3",
   "language": "python",
   "name": "python3"
  },
  "language_info": {
   "codemirror_mode": {
    "name": "ipython",
    "version": 3
   },
   "file_extension": ".py",
   "mimetype": "text/x-python",
   "name": "python",
   "nbconvert_exporter": "python",
   "pygments_lexer": "ipython3",
   "version": "3.7.2"
  }
 },
 "nbformat": 4,
 "nbformat_minor": 2
}
