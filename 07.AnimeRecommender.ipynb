{
 "cells": [
  {
   "cell_type": "code",
   "execution_count": 1,
   "metadata": {},
   "outputs": [],
   "source": [
    "%matplotlib inline\n",
    "%reload_ext autoreload\n",
    "%autoreload 2"
   ]
  },
  {
   "cell_type": "code",
   "execution_count": 2,
   "metadata": {},
   "outputs": [],
   "source": [
    "import fastai\n",
    "import fastai.basics as fai\n",
    "import fastai.collab as fc\n",
    "import fastai.tabular as ft\n",
    "\n",
    "from pathlib import Path\n",
    "from shutil import copyfile\n",
    "import random\n",
    "import gc\n",
    "\n",
    "import torch\n",
    "import torch.nn.functional as F\n",
    "import torch.nn as nn\n",
    "\n",
    "import torchvision\n",
    "import torchvision.utils as utils\n",
    "import torchvision.models\n",
    "from torch.utils.data import DataLoader, Dataset\n",
    "\n",
    "from tqdm import tqdm_notebook as tqdm\n",
    "\n",
    "import matplotlib.pyplot as plt\n",
    "import numpy as np\n",
    "import pandas as pd"
   ]
  },
  {
   "cell_type": "code",
   "execution_count": 3,
   "metadata": {},
   "outputs": [],
   "source": [
    "path = Path('AnimeRatings/')"
   ]
  },
  {
   "cell_type": "code",
   "execution_count": 4,
   "metadata": {},
   "outputs": [
    {
     "data": {
      "text/plain": [
       "PosixPath('AnimeRatings')"
      ]
     },
     "execution_count": 4,
     "metadata": {},
     "output_type": "execute_result"
    }
   ],
   "source": [
    "path"
   ]
  },
  {
   "cell_type": "code",
   "execution_count": 5,
   "metadata": {},
   "outputs": [
    {
     "data": {
      "text/plain": [
       "[PosixPath('AnimeRatings/rating.csv'),\n",
       " PosixPath('AnimeRatings/anime.csv'),\n",
       " PosixPath('AnimeRatings/anime-recommendations-database.zip')]"
      ]
     },
     "execution_count": 5,
     "metadata": {},
     "output_type": "execute_result"
    }
   ],
   "source": [
    "path.ls()"
   ]
  },
  {
   "cell_type": "code",
   "execution_count": 6,
   "metadata": {},
   "outputs": [],
   "source": [
    "ratings = pd.read_csv(path/\"rating.csv\")"
   ]
  },
  {
   "cell_type": "code",
   "execution_count": 7,
   "metadata": {},
   "outputs": [
    {
     "data": {
      "text/html": [
       "<div>\n",
       "<style scoped>\n",
       "    .dataframe tbody tr th:only-of-type {\n",
       "        vertical-align: middle;\n",
       "    }\n",
       "\n",
       "    .dataframe tbody tr th {\n",
       "        vertical-align: top;\n",
       "    }\n",
       "\n",
       "    .dataframe thead th {\n",
       "        text-align: right;\n",
       "    }\n",
       "</style>\n",
       "<table border=\"1\" class=\"dataframe\">\n",
       "  <thead>\n",
       "    <tr style=\"text-align: right;\">\n",
       "      <th></th>\n",
       "      <th>user_id</th>\n",
       "      <th>anime_id</th>\n",
       "      <th>rating</th>\n",
       "    </tr>\n",
       "  </thead>\n",
       "  <tbody>\n",
       "    <tr>\n",
       "      <th>0</th>\n",
       "      <td>1</td>\n",
       "      <td>20</td>\n",
       "      <td>-1</td>\n",
       "    </tr>\n",
       "    <tr>\n",
       "      <th>1</th>\n",
       "      <td>1</td>\n",
       "      <td>24</td>\n",
       "      <td>-1</td>\n",
       "    </tr>\n",
       "    <tr>\n",
       "      <th>2</th>\n",
       "      <td>1</td>\n",
       "      <td>79</td>\n",
       "      <td>-1</td>\n",
       "    </tr>\n",
       "    <tr>\n",
       "      <th>3</th>\n",
       "      <td>1</td>\n",
       "      <td>226</td>\n",
       "      <td>-1</td>\n",
       "    </tr>\n",
       "    <tr>\n",
       "      <th>4</th>\n",
       "      <td>1</td>\n",
       "      <td>241</td>\n",
       "      <td>-1</td>\n",
       "    </tr>\n",
       "  </tbody>\n",
       "</table>\n",
       "</div>"
      ],
      "text/plain": [
       "   user_id  anime_id  rating\n",
       "0        1        20      -1\n",
       "1        1        24      -1\n",
       "2        1        79      -1\n",
       "3        1       226      -1\n",
       "4        1       241      -1"
      ]
     },
     "execution_count": 7,
     "metadata": {},
     "output_type": "execute_result"
    }
   ],
   "source": [
    "ratings.head()"
   ]
  },
  {
   "cell_type": "markdown",
   "metadata": {},
   "source": [
    "Quitamos los -1's, porque, al menos por el momento, no nos sirven de nada (esto se podría investigar. Quizás se podría cambiar el -1 por algo como el promedio de ese anime, o algo entre el promedio de ese anime y el promedio global, porque si no calificas algo que sí viste es porque quizás no te impresionó suficiente)"
   ]
  },
  {
   "cell_type": "code",
   "execution_count": 8,
   "metadata": {},
   "outputs": [],
   "source": [
    "ratings = ratings[ratings['rating'] != -1]"
   ]
  },
  {
   "cell_type": "code",
   "execution_count": 9,
   "metadata": {},
   "outputs": [
    {
     "data": {
      "text/html": [
       "<div>\n",
       "<style scoped>\n",
       "    .dataframe tbody tr th:only-of-type {\n",
       "        vertical-align: middle;\n",
       "    }\n",
       "\n",
       "    .dataframe tbody tr th {\n",
       "        vertical-align: top;\n",
       "    }\n",
       "\n",
       "    .dataframe thead th {\n",
       "        text-align: right;\n",
       "    }\n",
       "</style>\n",
       "<table border=\"1\" class=\"dataframe\">\n",
       "  <thead>\n",
       "    <tr style=\"text-align: right;\">\n",
       "      <th></th>\n",
       "      <th>user_id</th>\n",
       "      <th>anime_id</th>\n",
       "      <th>rating</th>\n",
       "    </tr>\n",
       "  </thead>\n",
       "  <tbody>\n",
       "    <tr>\n",
       "      <th>47</th>\n",
       "      <td>1</td>\n",
       "      <td>8074</td>\n",
       "      <td>10</td>\n",
       "    </tr>\n",
       "    <tr>\n",
       "      <th>81</th>\n",
       "      <td>1</td>\n",
       "      <td>11617</td>\n",
       "      <td>10</td>\n",
       "    </tr>\n",
       "    <tr>\n",
       "      <th>83</th>\n",
       "      <td>1</td>\n",
       "      <td>11757</td>\n",
       "      <td>10</td>\n",
       "    </tr>\n",
       "    <tr>\n",
       "      <th>101</th>\n",
       "      <td>1</td>\n",
       "      <td>15451</td>\n",
       "      <td>10</td>\n",
       "    </tr>\n",
       "    <tr>\n",
       "      <th>153</th>\n",
       "      <td>2</td>\n",
       "      <td>11771</td>\n",
       "      <td>10</td>\n",
       "    </tr>\n",
       "  </tbody>\n",
       "</table>\n",
       "</div>"
      ],
      "text/plain": [
       "     user_id  anime_id  rating\n",
       "47         1      8074      10\n",
       "81         1     11617      10\n",
       "83         1     11757      10\n",
       "101        1     15451      10\n",
       "153        2     11771      10"
      ]
     },
     "execution_count": 9,
     "metadata": {},
     "output_type": "execute_result"
    }
   ],
   "source": [
    "ratings.head()"
   ]
  },
  {
   "cell_type": "code",
   "execution_count": 10,
   "metadata": {},
   "outputs": [],
   "source": [
    "animes = pd.read_csv(\"AnimeRatings/anime.csv\")"
   ]
  },
  {
   "cell_type": "code",
   "execution_count": 11,
   "metadata": {},
   "outputs": [
    {
     "data": {
      "text/html": [
       "<div>\n",
       "<style scoped>\n",
       "    .dataframe tbody tr th:only-of-type {\n",
       "        vertical-align: middle;\n",
       "    }\n",
       "\n",
       "    .dataframe tbody tr th {\n",
       "        vertical-align: top;\n",
       "    }\n",
       "\n",
       "    .dataframe thead th {\n",
       "        text-align: right;\n",
       "    }\n",
       "</style>\n",
       "<table border=\"1\" class=\"dataframe\">\n",
       "  <thead>\n",
       "    <tr style=\"text-align: right;\">\n",
       "      <th></th>\n",
       "      <th>anime_id</th>\n",
       "      <th>name</th>\n",
       "      <th>genre</th>\n",
       "      <th>type</th>\n",
       "      <th>episodes</th>\n",
       "      <th>rating</th>\n",
       "      <th>members</th>\n",
       "    </tr>\n",
       "  </thead>\n",
       "  <tbody>\n",
       "    <tr>\n",
       "      <th>0</th>\n",
       "      <td>32281</td>\n",
       "      <td>Kimi no Na wa.</td>\n",
       "      <td>Drama, Romance, School, Supernatural</td>\n",
       "      <td>Movie</td>\n",
       "      <td>1</td>\n",
       "      <td>9.37</td>\n",
       "      <td>200630</td>\n",
       "    </tr>\n",
       "    <tr>\n",
       "      <th>1</th>\n",
       "      <td>5114</td>\n",
       "      <td>Fullmetal Alchemist: Brotherhood</td>\n",
       "      <td>Action, Adventure, Drama, Fantasy, Magic, Mili...</td>\n",
       "      <td>TV</td>\n",
       "      <td>64</td>\n",
       "      <td>9.26</td>\n",
       "      <td>793665</td>\n",
       "    </tr>\n",
       "    <tr>\n",
       "      <th>2</th>\n",
       "      <td>28977</td>\n",
       "      <td>Gintama°</td>\n",
       "      <td>Action, Comedy, Historical, Parody, Samurai, S...</td>\n",
       "      <td>TV</td>\n",
       "      <td>51</td>\n",
       "      <td>9.25</td>\n",
       "      <td>114262</td>\n",
       "    </tr>\n",
       "    <tr>\n",
       "      <th>3</th>\n",
       "      <td>9253</td>\n",
       "      <td>Steins;Gate</td>\n",
       "      <td>Sci-Fi, Thriller</td>\n",
       "      <td>TV</td>\n",
       "      <td>24</td>\n",
       "      <td>9.17</td>\n",
       "      <td>673572</td>\n",
       "    </tr>\n",
       "    <tr>\n",
       "      <th>4</th>\n",
       "      <td>9969</td>\n",
       "      <td>Gintama&amp;#039;</td>\n",
       "      <td>Action, Comedy, Historical, Parody, Samurai, S...</td>\n",
       "      <td>TV</td>\n",
       "      <td>51</td>\n",
       "      <td>9.16</td>\n",
       "      <td>151266</td>\n",
       "    </tr>\n",
       "  </tbody>\n",
       "</table>\n",
       "</div>"
      ],
      "text/plain": [
       "   anime_id                              name  \\\n",
       "0     32281                    Kimi no Na wa.   \n",
       "1      5114  Fullmetal Alchemist: Brotherhood   \n",
       "2     28977                          Gintama°   \n",
       "3      9253                       Steins;Gate   \n",
       "4      9969                     Gintama&#039;   \n",
       "\n",
       "                                               genre   type episodes  rating  \\\n",
       "0               Drama, Romance, School, Supernatural  Movie        1    9.37   \n",
       "1  Action, Adventure, Drama, Fantasy, Magic, Mili...     TV       64    9.26   \n",
       "2  Action, Comedy, Historical, Parody, Samurai, S...     TV       51    9.25   \n",
       "3                                   Sci-Fi, Thriller     TV       24    9.17   \n",
       "4  Action, Comedy, Historical, Parody, Samurai, S...     TV       51    9.16   \n",
       "\n",
       "   members  \n",
       "0   200630  \n",
       "1   793665  \n",
       "2   114262  \n",
       "3   673572  \n",
       "4   151266  "
      ]
     },
     "execution_count": 11,
     "metadata": {},
     "output_type": "execute_result"
    }
   ],
   "source": [
    "animes.head()"
   ]
  },
  {
   "cell_type": "code",
   "execution_count": 12,
   "metadata": {},
   "outputs": [],
   "source": [
    "ratings = ratings.merge(animes[[\"anime_id\", \"name\"]])"
   ]
  },
  {
   "cell_type": "code",
   "execution_count": 13,
   "metadata": {},
   "outputs": [
    {
     "data": {
      "text/html": [
       "<div>\n",
       "<style scoped>\n",
       "    .dataframe tbody tr th:only-of-type {\n",
       "        vertical-align: middle;\n",
       "    }\n",
       "\n",
       "    .dataframe tbody tr th {\n",
       "        vertical-align: top;\n",
       "    }\n",
       "\n",
       "    .dataframe thead th {\n",
       "        text-align: right;\n",
       "    }\n",
       "</style>\n",
       "<table border=\"1\" class=\"dataframe\">\n",
       "  <thead>\n",
       "    <tr style=\"text-align: right;\">\n",
       "      <th></th>\n",
       "      <th>user_id</th>\n",
       "      <th>anime_id</th>\n",
       "      <th>rating</th>\n",
       "      <th>name</th>\n",
       "    </tr>\n",
       "  </thead>\n",
       "  <tbody>\n",
       "    <tr>\n",
       "      <th>0</th>\n",
       "      <td>1</td>\n",
       "      <td>8074</td>\n",
       "      <td>10</td>\n",
       "      <td>Highschool of the Dead</td>\n",
       "    </tr>\n",
       "    <tr>\n",
       "      <th>1</th>\n",
       "      <td>3</td>\n",
       "      <td>8074</td>\n",
       "      <td>6</td>\n",
       "      <td>Highschool of the Dead</td>\n",
       "    </tr>\n",
       "    <tr>\n",
       "      <th>2</th>\n",
       "      <td>5</td>\n",
       "      <td>8074</td>\n",
       "      <td>2</td>\n",
       "      <td>Highschool of the Dead</td>\n",
       "    </tr>\n",
       "    <tr>\n",
       "      <th>3</th>\n",
       "      <td>12</td>\n",
       "      <td>8074</td>\n",
       "      <td>6</td>\n",
       "      <td>Highschool of the Dead</td>\n",
       "    </tr>\n",
       "    <tr>\n",
       "      <th>4</th>\n",
       "      <td>14</td>\n",
       "      <td>8074</td>\n",
       "      <td>6</td>\n",
       "      <td>Highschool of the Dead</td>\n",
       "    </tr>\n",
       "  </tbody>\n",
       "</table>\n",
       "</div>"
      ],
      "text/plain": [
       "   user_id  anime_id  rating                    name\n",
       "0        1      8074      10  Highschool of the Dead\n",
       "1        3      8074       6  Highschool of the Dead\n",
       "2        5      8074       2  Highschool of the Dead\n",
       "3       12      8074       6  Highschool of the Dead\n",
       "4       14      8074       6  Highschool of the Dead"
      ]
     },
     "execution_count": 13,
     "metadata": {},
     "output_type": "execute_result"
    }
   ],
   "source": [
    "ratings.head()"
   ]
  },
  {
   "cell_type": "code",
   "execution_count": 14,
   "metadata": {},
   "outputs": [],
   "source": [
    "data = fc.CollabDataBunch.from_df(ratings, seed=666, valid_pct=0.1, item_name=\"name\")"
   ]
  },
  {
   "cell_type": "code",
   "execution_count": 15,
   "metadata": {},
   "outputs": [
    {
     "data": {
      "text/html": [
       "<table border=\"1\" class=\"dataframe\">\n",
       "  <thead>\n",
       "    <tr style=\"text-align: right;\">\n",
       "      <th>user_id</th>\n",
       "      <th>name</th>\n",
       "      <th>target</th>\n",
       "    </tr>\n",
       "  </thead>\n",
       "  <tbody>\n",
       "    <tr>\n",
       "      <td>26036</td>\n",
       "      <td>Kaze no Stigma</td>\n",
       "      <td>9.0</td>\n",
       "    </tr>\n",
       "    <tr>\n",
       "      <td>10049</td>\n",
       "      <td>Aki-Sora: Yume no Naka</td>\n",
       "      <td>5.0</td>\n",
       "    </tr>\n",
       "    <tr>\n",
       "      <td>65509</td>\n",
       "      <td>Hellsing</td>\n",
       "      <td>9.0</td>\n",
       "    </tr>\n",
       "    <tr>\n",
       "      <td>24890</td>\n",
       "      <td>Gedo Senki</td>\n",
       "      <td>9.0</td>\n",
       "    </tr>\n",
       "    <tr>\n",
       "      <td>65958</td>\n",
       "      <td>Akagami no Shirayuki-hime: Nandemonai Takaramono, Kono Page</td>\n",
       "      <td>8.0</td>\n",
       "    </tr>\n",
       "  </tbody>\n",
       "</table>"
      ],
      "text/plain": [
       "<IPython.core.display.HTML object>"
      ]
     },
     "metadata": {},
     "output_type": "display_data"
    }
   ],
   "source": [
    "data.show_batch()"
   ]
  },
  {
   "cell_type": "code",
   "execution_count": 16,
   "metadata": {},
   "outputs": [],
   "source": [
    "y_range = [-0.5,10.5]"
   ]
  },
  {
   "cell_type": "code",
   "execution_count": 17,
   "metadata": {},
   "outputs": [],
   "source": [
    "learn = fc.collab_learner(data,n_factors=50,y_range=y_range,wd=0.1)"
   ]
  },
  {
   "cell_type": "code",
   "execution_count": 18,
   "metadata": {},
   "outputs": [
    {
     "data": {
      "text/plain": [
       "FlattenedLoss of MSELoss()"
      ]
     },
     "execution_count": 18,
     "metadata": {},
     "output_type": "execute_result"
    }
   ],
   "source": [
    "learn.loss_func"
   ]
  },
  {
   "cell_type": "code",
   "execution_count": 19,
   "metadata": {},
   "outputs": [
    {
     "data": {
      "text/plain": [
       "EmbeddingDotBias(\n",
       "  (u_weight): Embedding(69272, 50)\n",
       "  (i_weight): Embedding(9839, 50)\n",
       "  (u_bias): Embedding(69272, 1)\n",
       "  (i_bias): Embedding(9839, 1)\n",
       ")"
      ]
     },
     "execution_count": 19,
     "metadata": {},
     "output_type": "execute_result"
    }
   ],
   "source": [
    "learn.model"
   ]
  },
  {
   "cell_type": "code",
   "execution_count": 20,
   "metadata": {},
   "outputs": [
    {
     "data": {
      "text/html": [],
      "text/plain": [
       "<IPython.core.display.HTML object>"
      ]
     },
     "metadata": {},
     "output_type": "display_data"
    },
    {
     "name": "stdout",
     "output_type": "stream",
     "text": [
      "LR Finder is complete, type {learner_name}.recorder.plot() to see the graph.\n"
     ]
    },
    {
     "data": {
      "image/png": "[encoded data removed]",
      "text/plain": [
       "<Figure size 432x288 with 1 Axes>"
      ]
     },
     "metadata": {
      "needs_background": "light"
     },
     "output_type": "display_data"
    }
   ],
   "source": [
    "learn.lr_find(); learn.recorder.plot()"
   ]
  },
  {
   "cell_type": "code",
   "execution_count": null,
   "metadata": {},
   "outputs": [],
   "source": [
    "learn.fit_one_cycle(1,1e-1)"
   ]
  },
  {
   "cell_type": "code",
   "execution_count": null,
   "metadata": {},
   "outputs": [],
   "source": [
    "learn.save('anime-1')"
   ]
  },
  {
   "cell_type": "code",
   "execution_count": null,
   "metadata": {},
   "outputs": [],
   "source": [
    "learn.data = fc.CollabDataBunch.from_df(ratings, seed=666, valid_pct=0.1, item_name=\"name\",bs=256)"
   ]
  },
  {
   "cell_type": "code",
   "execution_count": null,
   "metadata": {},
   "outputs": [],
   "source": [
    "gc.collect()"
   ]
  },
  {
   "cell_type": "code",
   "execution_count": null,
   "metadata": {},
   "outputs": [],
   "source": [
    "learn.lr_find(); learn.recorder.plot()"
   ]
  },
  {
   "cell_type": "code",
   "execution_count": null,
   "metadata": {},
   "outputs": [],
   "source": [
    "learn.fit_one_cycle(1,3e-3)"
   ]
  },
  {
   "cell_type": "code",
   "execution_count": null,
   "metadata": {},
   "outputs": [],
   "source": [
    "learn.save('anime-2')"
   ]
  },
  {
   "cell_type": "code",
   "execution_count": null,
   "metadata": {},
   "outputs": [],
   "source": [
    "learn.load('anime-2');"
   ]
  },
  {
   "cell_type": "code",
   "execution_count": null,
   "metadata": {},
   "outputs": [],
   "source": [
    "learn.lr_find(); learn.recorder.plot()"
   ]
  },
  {
   "cell_type": "code",
   "execution_count": null,
   "metadata": {},
   "outputs": [],
   "source": [
    "learn.fit_one_cycle(1,1e-3)"
   ]
  },
  {
   "cell_type": "code",
   "execution_count": null,
   "metadata": {},
   "outputs": [],
   "source": [
    "learn.save('anime-3')"
   ]
  },
  {
   "cell_type": "code",
   "execution_count": 21,
   "metadata": {},
   "outputs": [],
   "source": [
    "learn.load('anime-3');"
   ]
  },
  {
   "cell_type": "markdown",
   "metadata": {},
   "source": [
    "# Interpretación\n",
    "\n",
    "Vamos a quedarnos sólo con los 500 animes con más ratings, para tener chance de conocerlos.\n",
    "\n",
    "Para esto, simplemente vamos a ordenar los animes en base a su número de ratings."
   ]
  },
  {
   "cell_type": "code",
   "execution_count": 22,
   "metadata": {},
   "outputs": [],
   "source": [
    "animes_num_ratings = ratings.groupby('name')['rating'].count()"
   ]
  },
  {
   "cell_type": "code",
   "execution_count": 23,
   "metadata": {},
   "outputs": [
    {
     "data": {
      "text/plain": [
       "name\n",
       "&quot;0&quot;                                                         17\n",
       "&quot;Aesop&quot; no Ohanashi yori: Ushi to Kaeru, Yokubatta Inu       1\n",
       "&quot;Bungaku Shoujo&quot; Kyou no Oyatsu: Hatsukoi                  635\n",
       "&quot;Bungaku Shoujo&quot; Memoire                                   662\n",
       "&quot;Bungaku Shoujo&quot; Movie                                    1295\n",
       "Name: rating, dtype: int64"
      ]
     },
     "execution_count": 23,
     "metadata": {},
     "output_type": "execute_result"
    }
   ],
   "source": [
    "animes_num_ratings.head()"
   ]
  },
  {
   "cell_type": "code",
   "execution_count": 24,
   "metadata": {},
   "outputs": [],
   "source": [
    "animes_num_ratings = animes_num_ratings.sort_values(ascending=False)"
   ]
  },
  {
   "cell_type": "code",
   "execution_count": 25,
   "metadata": {},
   "outputs": [
    {
     "data": {
      "text/plain": [
       "name\n",
       "Death Note                            34226\n",
       "Sword Art Online                      26310\n",
       "Shingeki no Kyojin                    25290\n",
       "Code Geass: Hangyaku no Lelouch       24126\n",
       "Angel Beats!                          23565\n",
       "Elfen Lied                            23528\n",
       "Naruto                                22071\n",
       "Fullmetal Alchemist: Brotherhood      21494\n",
       "Fullmetal Alchemist                   21332\n",
       "Code Geass: Hangyaku no Lelouch R2    21124\n",
       "Toradora!                             20837\n",
       "Highschool of the Dead                19488\n",
       "Sen to Chihiro no Kamikakushi         19481\n",
       "Clannad                               18746\n",
       "Mirai Nikki (TV)                      18649\n",
       "Ao no Exorcist                        17801\n",
       "Steins;Gate                           17151\n",
       "Another                               17036\n",
       "Tengen Toppa Gurren Lagann            16955\n",
       "Soul Eater                            16667\n",
       "Name: rating, dtype: int64"
      ]
     },
     "execution_count": 25,
     "metadata": {},
     "output_type": "execute_result"
    }
   ],
   "source": [
    "animes_num_ratings.head(20)"
   ]
  },
  {
   "cell_type": "code",
   "execution_count": 27,
   "metadata": {},
   "outputs": [
    {
     "data": {
      "text/plain": [
       "name\n",
       "Hi-Speed Jecy                                1\n",
       "Kinniku Banzuke: Kongou-kun no Daibouken!    1\n",
       "I Love Sky                                   1\n",
       "Jiok                                         1\n",
       "His Lipstick                                 1\n",
       "Ashita no Eleventachi                        1\n",
       "Ashita e Mukau Hito                          1\n",
       "Shounen Ninja Kaze no Fujimaru               1\n",
       "Hi no Tori: Hagoromo-hen                     1\n",
       "Mechakko Dotakon                             1\n",
       "Name: rating, dtype: int64"
      ]
     },
     "execution_count": 27,
     "metadata": {},
     "output_type": "execute_result"
    }
   ],
   "source": [
    "animes_num_ratings.tail(10)"
   ]
  },
  {
   "cell_type": "code",
   "execution_count": 28,
   "metadata": {},
   "outputs": [],
   "source": [
    "most_watched = animes_num_ratings.index.values[:500]"
   ]
  },
  {
   "cell_type": "code",
   "execution_count": 29,
   "metadata": {},
   "outputs": [
    {
     "data": {
      "text/plain": [
       "array(['Death Note', 'Sword Art Online', 'Shingeki no Kyojin', 'Code Geass: Hangyaku no Lelouch', 'Angel Beats!',\n",
       "       'Elfen Lied', 'Naruto', 'Fullmetal Alchemist: Brotherhood', 'Fullmetal Alchemist',\n",
       "       'Code Geass: Hangyaku no Lelouch R2'], dtype=object)"
      ]
     },
     "execution_count": 29,
     "metadata": {},
     "output_type": "execute_result"
    }
   ],
   "source": [
    "most_watched[:10]"
   ]
  },
  {
   "cell_type": "code",
   "execution_count": 30,
   "metadata": {},
   "outputs": [
    {
     "data": {
      "text/plain": [
       "array(['Gunslinger Girl', 'Ghost in the Shell 2: Innocence', 'Seikon no Qwaser', 'Pokemon: The Origin',\n",
       "       'Saenai Heroine no Sodatekata', 'Girls Bravo: First Season', 'Another: The Other - Inga', 'Sekaiichi Hatsukoi',\n",
       "       'Paradise Kiss', 'Little Witch Academia'], dtype=object)"
      ]
     },
     "execution_count": 30,
     "metadata": {},
     "output_type": "execute_result"
    }
   ],
   "source": [
    "most_watched[-10:]"
   ]
  },
  {
   "cell_type": "code",
   "execution_count": 31,
   "metadata": {},
   "outputs": [
    {
     "data": {
      "text/html": [
       "<div>\n",
       "<style scoped>\n",
       "    .dataframe tbody tr th:only-of-type {\n",
       "        vertical-align: middle;\n",
       "    }\n",
       "\n",
       "    .dataframe tbody tr th {\n",
       "        vertical-align: top;\n",
       "    }\n",
       "\n",
       "    .dataframe thead th {\n",
       "        text-align: right;\n",
       "    }\n",
       "</style>\n",
       "<table border=\"1\" class=\"dataframe\">\n",
       "  <thead>\n",
       "    <tr style=\"text-align: right;\">\n",
       "      <th></th>\n",
       "      <th>anime_id</th>\n",
       "      <th>name</th>\n",
       "      <th>genre</th>\n",
       "      <th>type</th>\n",
       "      <th>episodes</th>\n",
       "      <th>rating</th>\n",
       "      <th>members</th>\n",
       "    </tr>\n",
       "  </thead>\n",
       "  <tbody>\n",
       "    <tr>\n",
       "      <th>0</th>\n",
       "      <td>32281</td>\n",
       "      <td>Kimi no Na wa.</td>\n",
       "      <td>Drama, Romance, School, Supernatural</td>\n",
       "      <td>Movie</td>\n",
       "      <td>1</td>\n",
       "      <td>9.37</td>\n",
       "      <td>200630</td>\n",
       "    </tr>\n",
       "    <tr>\n",
       "      <th>1</th>\n",
       "      <td>5114</td>\n",
       "      <td>Fullmetal Alchemist: Brotherhood</td>\n",
       "      <td>Action, Adventure, Drama, Fantasy, Magic, Mili...</td>\n",
       "      <td>TV</td>\n",
       "      <td>64</td>\n",
       "      <td>9.26</td>\n",
       "      <td>793665</td>\n",
       "    </tr>\n",
       "    <tr>\n",
       "      <th>2</th>\n",
       "      <td>28977</td>\n",
       "      <td>Gintama°</td>\n",
       "      <td>Action, Comedy, Historical, Parody, Samurai, S...</td>\n",
       "      <td>TV</td>\n",
       "      <td>51</td>\n",
       "      <td>9.25</td>\n",
       "      <td>114262</td>\n",
       "    </tr>\n",
       "    <tr>\n",
       "      <th>3</th>\n",
       "      <td>9253</td>\n",
       "      <td>Steins;Gate</td>\n",
       "      <td>Sci-Fi, Thriller</td>\n",
       "      <td>TV</td>\n",
       "      <td>24</td>\n",
       "      <td>9.17</td>\n",
       "      <td>673572</td>\n",
       "    </tr>\n",
       "    <tr>\n",
       "      <th>4</th>\n",
       "      <td>9969</td>\n",
       "      <td>Gintama&amp;#039;</td>\n",
       "      <td>Action, Comedy, Historical, Parody, Samurai, S...</td>\n",
       "      <td>TV</td>\n",
       "      <td>51</td>\n",
       "      <td>9.16</td>\n",
       "      <td>151266</td>\n",
       "    </tr>\n",
       "  </tbody>\n",
       "</table>\n",
       "</div>"
      ],
      "text/plain": [
       "   anime_id                              name  \\\n",
       "0     32281                    Kimi no Na wa.   \n",
       "1      5114  Fullmetal Alchemist: Brotherhood   \n",
       "2     28977                          Gintama°   \n",
       "3      9253                       Steins;Gate   \n",
       "4      9969                     Gintama&#039;   \n",
       "\n",
       "                                               genre   type episodes  rating  \\\n",
       "0               Drama, Romance, School, Supernatural  Movie        1    9.37   \n",
       "1  Action, Adventure, Drama, Fantasy, Magic, Mili...     TV       64    9.26   \n",
       "2  Action, Comedy, Historical, Parody, Samurai, S...     TV       51    9.25   \n",
       "3                                   Sci-Fi, Thriller     TV       24    9.17   \n",
       "4  Action, Comedy, Historical, Parody, Samurai, S...     TV       51    9.16   \n",
       "\n",
       "   members  \n",
       "0   200630  \n",
       "1   793665  \n",
       "2   114262  \n",
       "3   673572  \n",
       "4   151266  "
      ]
     },
     "execution_count": 31,
     "metadata": {},
     "output_type": "execute_result"
    }
   ],
   "source": [
    "animes.head()"
   ]
  },
  {
   "cell_type": "code",
   "execution_count": 32,
   "metadata": {},
   "outputs": [],
   "source": [
    "_,anime_names = learn.data.train_ds.x.classes.values()"
   ]
  },
  {
   "cell_type": "code",
   "execution_count": 33,
   "metadata": {},
   "outputs": [
    {
     "data": {
      "text/plain": [
       "array(['#na#', '&quot;0&quot;', '&quot;Aesop&quot; no Ohanashi yori: Ushi to Kaeru, Yokubatta Inu',\n",
       "       '&quot;Bungaku Shoujo&quot; Kyou no Oyatsu: Hatsukoi', ..., 'xxxHOLiC Movie: Manatsu no Yoru no Yume',\n",
       "       'xxxHOLiC Rou', 'xxxHOLiC Shunmuki', '◯'], dtype=object)"
      ]
     },
     "execution_count": 33,
     "metadata": {},
     "output_type": "execute_result"
    }
   ],
   "source": [
    "anime_names"
   ]
  },
  {
   "cell_type": "code",
   "execution_count": 34,
   "metadata": {},
   "outputs": [],
   "source": [
    "anime2id = {anime:i for i,anime in enumerate(anime_names)}"
   ]
  },
  {
   "cell_type": "code",
   "execution_count": 35,
   "metadata": {},
   "outputs": [
    {
     "data": {
      "text/plain": [
       "1675"
      ]
     },
     "execution_count": 35,
     "metadata": {},
     "output_type": "execute_result"
    }
   ],
   "source": [
    "anime2id[\"Death Note\"]"
   ]
  },
  {
   "cell_type": "code",
   "execution_count": 36,
   "metadata": {},
   "outputs": [],
   "source": [
    "most_watched_idx = [anime2id[name] for name in most_watched]"
   ]
  },
  {
   "cell_type": "code",
   "execution_count": 39,
   "metadata": {},
   "outputs": [],
   "source": [
    "anime_bias = learn.model.i_bias(torch.tensor(most_watched_idx).cuda())"
   ]
  },
  {
   "cell_type": "code",
   "execution_count": 44,
   "metadata": {},
   "outputs": [],
   "source": [
    "anime_bias = anime_bias.squeeze()"
   ]
  },
  {
   "cell_type": "code",
   "execution_count": 45,
   "metadata": {},
   "outputs": [
    {
     "data": {
      "text/plain": [
       "tensor([1.2207, 0.7204, 1.0468, 1.1249], device='cuda:0',\n",
       "       grad_fn=<SliceBackward>)"
      ]
     },
     "execution_count": 45,
     "metadata": {},
     "output_type": "execute_result"
    }
   ],
   "source": [
    "anime_bias[:4]"
   ]
  },
  {
   "cell_type": "code",
   "execution_count": 46,
   "metadata": {},
   "outputs": [],
   "source": [
    "mean_ratings = ratings.groupby(\"name\")['rating'].mean()"
   ]
  },
  {
   "cell_type": "code",
   "execution_count": 48,
   "metadata": {},
   "outputs": [
    {
     "data": {
      "text/plain": [
       "name\n",
       "&quot;0&quot;                                                       4.764706\n",
       "&quot;Aesop&quot; no Ohanashi yori: Ushi to Kaeru, Yokubatta Inu    1.000000\n",
       "&quot;Bungaku Shoujo&quot; Kyou no Oyatsu: Hatsukoi                 7.343307\n",
       "&quot;Bungaku Shoujo&quot; Memoire                                  7.744713\n",
       "&quot;Bungaku Shoujo&quot; Movie                                    7.840154\n",
       "Name: rating, dtype: float64"
      ]
     },
     "execution_count": 48,
     "metadata": {},
     "output_type": "execute_result"
    }
   ],
   "source": [
    "mean_ratings.head()"
   ]
  },
  {
   "cell_type": "code",
   "execution_count": 49,
   "metadata": {},
   "outputs": [],
   "source": [
    "bias_anime_rating = [(b, a, mean_ratings.loc[a]) for a,b in zip(most_watched,anime_bias)]"
   ]
  },
  {
   "cell_type": "code",
   "execution_count": 50,
   "metadata": {},
   "outputs": [
    {
     "data": {
      "text/plain": [
       "[(tensor(1.2207, device='cuda:0', grad_fn=<SelectBackward>),\n",
       "  'Death Note',\n",
       "  8.83462864488985),\n",
       " (tensor(0.7204, device='cuda:0', grad_fn=<SelectBackward>),\n",
       "  'Sword Art Online',\n",
       "  8.140212846826302),\n",
       " (tensor(1.0468, device='cuda:0', grad_fn=<SelectBackward>),\n",
       "  'Shingeki no Kyojin',\n",
       "  8.725741399762752)]"
      ]
     },
     "execution_count": 50,
     "metadata": {},
     "output_type": "execute_result"
    }
   ],
   "source": [
    "bias_anime_rating[:3]"
   ]
  },
  {
   "cell_type": "markdown",
   "metadata": {},
   "source": [
    "Las \"buenas\" (que tienen poco bias: que aún cuando sus usuarios no califican tan altas las cosas, estas películas tienen buena calificación)"
   ]
  },
  {
   "cell_type": "code",
   "execution_count": 53,
   "metadata": {},
   "outputs": [
    {
     "data": {
      "text/plain": [
       "[(tensor(1.3908, device='cuda:0', grad_fn=<SelectBackward>),\n",
       "  'Fullmetal Alchemist: Brotherhood',\n",
       "  9.32274123011073),\n",
       " (tensor(1.2421, device='cuda:0', grad_fn=<SelectBackward>),\n",
       "  'Steins;Gate',\n",
       "  9.26132587021165),\n",
       " (tensor(1.2207, device='cuda:0', grad_fn=<SelectBackward>),\n",
       "  'Death Note',\n",
       "  8.83462864488985),\n",
       " (tensor(1.1542, device='cuda:0', grad_fn=<SelectBackward>),\n",
       "  'Hunter x Hunter (2011)',\n",
       "  9.234586063929383),\n",
       " (tensor(1.1356, device='cuda:0', grad_fn=<SelectBackward>),\n",
       "  'Code Geass: Hangyaku no Lelouch R2',\n",
       "  9.059837152054536),\n",
       " (tensor(1.1294, device='cuda:0', grad_fn=<SelectBackward>),\n",
       "  'Clannad: After Story',\n",
       "  9.165291919061735),\n",
       " (tensor(1.1249, device='cuda:0', grad_fn=<SelectBackward>),\n",
       "  'Code Geass: Hangyaku no Lelouch',\n",
       "  8.927795739036723),\n",
       " (tensor(1.0511, device='cuda:0', grad_fn=<SelectBackward>),\n",
       "  'Sen to Chihiro no Kamikakushi',\n",
       "  8.923258559622196),\n",
       " (tensor(1.0468, device='cuda:0', grad_fn=<SelectBackward>),\n",
       "  'Shingeki no Kyojin',\n",
       "  8.725741399762752),\n",
       " (tensor(1.0467, device='cuda:0', grad_fn=<SelectBackward>),\n",
       "  'Cowboy Bebop',\n",
       "  8.869432671574094),\n",
       " (tensor(1.0202, device='cuda:0', grad_fn=<SelectBackward>),\n",
       "  'Tengen Toppa Gurren Lagann',\n",
       "  8.93317605426128),\n",
       " (tensor(1.0059, device='cuda:0', grad_fn=<SelectBackward>),\n",
       "  'One Punch Man',\n",
       "  8.939680296741146),\n",
       " (tensor(0.9662, device='cuda:0', grad_fn=<SelectBackward>),\n",
       "  'Gintama',\n",
       "  9.23639774859287),\n",
       " (tensor(0.9654, device='cuda:0', grad_fn=<SelectBackward>),\n",
       "  'Mononoke Hime',\n",
       "  8.807076540682798),\n",
       " (tensor(0.9494, device='cuda:0', grad_fn=<SelectBackward>),\n",
       "  'Fullmetal Alchemist',\n",
       "  8.453356459778735)]"
      ]
     },
     "execution_count": 53,
     "metadata": {},
     "output_type": "execute_result"
    }
   ],
   "source": [
    "sorted(bias_anime_rating, key=lambda x: x[0], reverse=True)[:15]"
   ]
  },
  {
   "cell_type": "markdown",
   "metadata": {},
   "source": [
    "Las \"malas\""
   ]
  },
  {
   "cell_type": "code",
   "execution_count": 54,
   "metadata": {},
   "outputs": [
    {
     "data": {
      "text/plain": [
       "[(tensor(0.1100, device='cuda:0', grad_fn=<SelectBackward>),\n",
       "  'Amnesia',\n",
       "  6.637989778534924),\n",
       " (tensor(0.1291, device='cuda:0', grad_fn=<SelectBackward>),\n",
       "  'Highschool of the Dead: Drifters of the Dead',\n",
       "  6.829015544041451),\n",
       " (tensor(0.1381, device='cuda:0', grad_fn=<SelectBackward>),\n",
       "  'Absolute Duo',\n",
       "  6.843541202672606),\n",
       " (tensor(0.1479, device='cuda:0', grad_fn=<SelectBackward>),\n",
       "  'Green Green',\n",
       "  6.6961012135295634),\n",
       " (tensor(0.1646, device='cuda:0', grad_fn=<SelectBackward>),\n",
       "  'Kanokon',\n",
       "  6.9416610999777335),\n",
       " (tensor(0.1697, device='cuda:0', grad_fn=<SelectBackward>),\n",
       "  'IS: Infinite Stratos 2',\n",
       "  6.950861667442943),\n",
       " (tensor(0.1725, device='cuda:0', grad_fn=<SelectBackward>),\n",
       "  'School Days',\n",
       "  6.486360167874857),\n",
       " (tensor(0.1773, device='cuda:0', grad_fn=<SelectBackward>),\n",
       "  'Girls Bravo: First Season',\n",
       "  6.932243684992571),\n",
       " (tensor(0.1834, device='cuda:0', grad_fn=<SelectBackward>),\n",
       "  'ChäoS;HEAd',\n",
       "  6.881771150334753),\n",
       " (tensor(0.1843, device='cuda:0', grad_fn=<SelectBackward>),\n",
       "  'Akaneiro ni Somaru Saka',\n",
       "  6.910141881240147),\n",
       " (tensor(0.1872, device='cuda:0', grad_fn=<SelectBackward>),\n",
       "  '11eyes',\n",
       "  6.724036233410575),\n",
       " (tensor(0.1873, device='cuda:0', grad_fn=<SelectBackward>),\n",
       "  'DearS',\n",
       "  7.023319959879639),\n",
       " (tensor(0.1890, device='cuda:0', grad_fn=<SelectBackward>),\n",
       "  'Dakara Boku wa, H ga Dekinai.',\n",
       "  7.077062010836845),\n",
       " (tensor(0.2007, device='cuda:0', grad_fn=<SelectBackward>),\n",
       "  'Ladies versus Butlers!',\n",
       "  7.072259136212624),\n",
       " (tensor(0.2017, device='cuda:0', grad_fn=<SelectBackward>),\n",
       "  'Seikon no Qwaser',\n",
       "  7.015722337585286)]"
      ]
     },
     "execution_count": 54,
     "metadata": {},
     "output_type": "execute_result"
    }
   ],
   "source": [
    "sorted(bias_anime_rating, key=lambda x: x[0])[:15]"
   ]
  },
  {
   "cell_type": "markdown",
   "metadata": {},
   "source": [
    "# Interpretando lo que aprendió la red\n",
    "\n",
    "Nos cuesta trabajo entender 50 números que representan las preferencias de los usuarios. Tratemos de entender sólo 3 \"ejes\", usando PCA. Afortunadamente, pytorch trae la función \"pca\"."
   ]
  },
  {
   "cell_type": "code",
   "execution_count": 78,
   "metadata": {},
   "outputs": [],
   "source": [
    "most_watched = most_watched[:200]"
   ]
  },
  {
   "cell_type": "code",
   "execution_count": 79,
   "metadata": {},
   "outputs": [
    {
     "data": {
      "text/plain": [
       "torch.Size([100, 50])"
      ]
     },
     "execution_count": 79,
     "metadata": {},
     "output_type": "execute_result"
    }
   ],
   "source": [
    "anime_weights = learn.weight(most_watched, is_item=True)\n",
    "anime_weights.shape"
   ]
  },
  {
   "cell_type": "code",
   "execution_count": 73,
   "metadata": {},
   "outputs": [
    {
     "data": {
      "text/plain": [
       "torch.Size([100, 3])"
      ]
     },
     "execution_count": 73,
     "metadata": {},
     "output_type": "execute_result"
    }
   ],
   "source": [
    "anime_pca = anime_weights.pca(3)\n",
    "anime_pca.shape"
   ]
  },
  {
   "cell_type": "code",
   "execution_count": 74,
   "metadata": {},
   "outputs": [],
   "source": [
    "def altos_y_bajos_en_eje(eje):\n",
    "    anime_comp = [(f, i) for f,i in zip(anime_pca.t()[eje], most_watched)]\n",
    "    L = sorted(anime_comp, key=lambda x: x[0], reverse=True)\n",
    "    return L[:10], L[-10:]"
   ]
  },
  {
   "cell_type": "code",
   "execution_count": 75,
   "metadata": {},
   "outputs": [
    {
     "data": {
      "text/plain": [
       "([(tensor(1.9133), 'Cowboy Bebop'),\n",
       "  (tensor(1.6002), 'Baccano!'),\n",
       "  (tensor(1.4694), 'Bakemonogatari'),\n",
       "  (tensor(1.4671), 'Mononoke Hime'),\n",
       "  (tensor(1.4617), 'Neon Genesis Evangelion'),\n",
       "  (tensor(1.4495), 'FLCL'),\n",
       "  (tensor(1.4238), 'Fate/Zero 2nd Season'),\n",
       "  (tensor(1.2642), 'Mahou Shoujo Madoka★Magica'),\n",
       "  (tensor(1.2380), 'Sen to Chihiro no Kamikakushi'),\n",
       "  (tensor(1.2363), 'Tengen Toppa Gurren Lagann')],\n",
       " [(tensor(-1.1846), 'Dragon Ball GT'),\n",
       "  (tensor(-1.1995), 'Akame ga Kill!'),\n",
       "  (tensor(-1.2601), 'Tokyo Ghoul √A'),\n",
       "  (tensor(-1.2771), 'Vampire Knight Guilty'),\n",
       "  (tensor(-1.2852), 'Vampire Knight'),\n",
       "  (tensor(-1.2918), 'High School DxD'),\n",
       "  (tensor(-1.3320), 'Fairy Tail'),\n",
       "  (tensor(-1.3881), 'Naruto'),\n",
       "  (tensor(-1.4183), 'Rosario to Vampire'),\n",
       "  (tensor(-1.9322), 'Sword Art Online')])"
      ]
     },
     "execution_count": 75,
     "metadata": {},
     "output_type": "execute_result"
    }
   ],
   "source": [
    "altos_y_bajos_en_eje(0)"
   ]
  },
  {
   "cell_type": "code",
   "execution_count": 76,
   "metadata": {},
   "outputs": [
    {
     "data": {
      "text/plain": [
       "([(tensor(1.4150), 'Naruto'),\n",
       "  (tensor(1.3084), 'Dragon Ball'),\n",
       "  (tensor(1.3005), 'Dragon Ball Z'),\n",
       "  (tensor(1.2789), 'Sen to Chihiro no Kamikakushi'),\n",
       "  (tensor(1.1551), 'Howl no Ugoku Shiro'),\n",
       "  (tensor(1.1262), 'Fullmetal Alchemist'),\n",
       "  (tensor(1.0194), 'Tonari no Totoro'),\n",
       "  (tensor(0.8810), 'Mononoke Hime'),\n",
       "  (tensor(0.8706), 'Cowboy Bebop'),\n",
       "  (tensor(0.8426), 'Neon Genesis Evangelion')],\n",
       " [(tensor(-0.7429), 'Toradora!'),\n",
       "  (tensor(-0.7578), 'Sakurasou no Pet na Kanojo'),\n",
       "  (tensor(-0.7797), 'Boku wa Tomodachi ga Sukunai'),\n",
       "  (tensor(-0.7947), 'Kami nomi zo Shiru Sekai'),\n",
       "  (tensor(-0.8481), 'Bakemonogatari'),\n",
       "  (tensor(-0.8539), 'Ore no Imouto ga Konnani Kawaii Wake ga Nai'),\n",
       "  (tensor(-0.9083), 'Angel Beats!'),\n",
       "  (tensor(-0.9684), 'Clannad: After Story'),\n",
       "  (tensor(-0.9926), 'No Game No Life'),\n",
       "  (tensor(-1.0675), 'Clannad')])"
      ]
     },
     "execution_count": 76,
     "metadata": {},
     "output_type": "execute_result"
    }
   ],
   "source": [
    "altos_y_bajos_en_eje(1)"
   ]
  },
  {
   "cell_type": "code",
   "execution_count": 77,
   "metadata": {},
   "outputs": [
    {
     "data": {
      "text/plain": [
       "([(tensor(1.3520), 'School Days'),\n",
       "  (tensor(1.0972), 'Suzumiya Haruhi no Yuuutsu'),\n",
       "  (tensor(1.0220), 'Lucky☆Star'),\n",
       "  (tensor(0.9376), 'Chobits'),\n",
       "  (tensor(0.9330), 'Rosario to Vampire'),\n",
       "  (tensor(0.7565), 'Vampire Knight'),\n",
       "  (tensor(0.7420), 'FLCL'),\n",
       "  (tensor(0.7330), 'Byousoku 5 Centimeter'),\n",
       "  (tensor(0.7276), 'Full Metal Panic!'),\n",
       "  (tensor(0.7226), 'Fruits Basket')],\n",
       " [(tensor(-0.7499), 'Noragami'),\n",
       "  (tensor(-0.8093), 'No Game No Life'),\n",
       "  (tensor(-0.8161), 'Code Geass: Hangyaku no Lelouch R2'),\n",
       "  (tensor(-0.8780), 'Fullmetal Alchemist: Brotherhood'),\n",
       "  (tensor(-0.9159), 'Kiseijuu: Sei no Kakuritsu'),\n",
       "  (tensor(-0.9204), 'Kuroko no Basket'),\n",
       "  (tensor(-0.9261), 'Shingeki no Kyojin'),\n",
       "  (tensor(-0.9321), 'Steins;Gate'),\n",
       "  (tensor(-0.9842), 'Tokyo Ghoul'),\n",
       "  (tensor(-0.9852), 'One Punch Man')])"
      ]
     },
     "execution_count": 77,
     "metadata": {},
     "output_type": "execute_result"
    }
   ],
   "source": [
    "altos_y_bajos_en_eje(2)"
   ]
  },
  {
   "cell_type": "code",
   "execution_count": null,
   "metadata": {},
   "outputs": [],
   "source": []
  }
 ],
 "metadata": {
  "kernelspec": {
   "display_name": "Python 3",
   "language": "python",
   "name": "python3"
  },
  "language_info": {
   "codemirror_mode": {
    "name": "ipython",
    "version": 3
   },
   "file_extension": ".py",
   "mimetype": "text/x-python",
   "name": "python",
   "nbconvert_exporter": "python",
   "pygments_lexer": "ipython3",
   "version": "3.6.7"
  }
 },
 "nbformat": 4,
 "nbformat_minor": 2
}
